{
 "cells": [
  {
   "cell_type": "code",
   "execution_count": null,
   "id": "641e8f2f",
   "metadata": {},
   "outputs": [],
   "source": [
    "1.Create a class with PRIVATE fields, private method and a main method. Print the fields \n",
    "in main method. Call the private method in main method. \n",
    "Create a sub class and try to access the private fields and methods from sub class."
   ]
  },
  {
   "cell_type": "code",
   "execution_count": 1,
   "id": "1d80ebed",
   "metadata": {},
   "outputs": [
    {
     "name": "stdout",
     "output_type": "stream",
     "text": [
      "Accessing private field inside main: This is a private field\n",
      "This is a private method\n",
      "\n",
      "Trying to access private members from subclass:\n",
      "Cannot access private field directly from subclass.\n",
      "Cannot call private method directly from subclass.\n"
     ]
    }
   ],
   "source": [
    "class Parent:\n",
    "    def __init__(self):\n",
    "        self.__private_field = \"This is a private field\"\n",
    "    \n",
    "    def __private_method(self):\n",
    "        print(\"This is a private method\")\n",
    "    \n",
    "    def main(self):\n",
    "        # Accessing private field and method within the class\n",
    "        print(\"Accessing private field inside main:\", self.__private_field)\n",
    "        self.__private_method()\n",
    "\n",
    "class Child(Parent):\n",
    "    def access_private_members(self):\n",
    "        try:\n",
    "            print(self.__private_field)  # Will raise AttributeError\n",
    "        except AttributeError:\n",
    "            print(\"Cannot access private field directly from subclass.\")\n",
    "        \n",
    "        try:\n",
    "            self.__private_method()  # Will raise AttributeError\n",
    "        except AttributeError:\n",
    "            print(\"Cannot call private method directly from subclass.\")\n",
    "\n",
    "# Create an instance of Parent and call main\n",
    "p = Parent()\n",
    "p.main()\n",
    "\n",
    "print(\"\\nTrying to access private members from subclass:\")\n",
    "c = Child()\n",
    "c.access_private_members()\n"
   ]
  },
  {
   "cell_type": "markdown",
   "id": "2520a380",
   "metadata": {},
   "source": []
  }
 ],
 "metadata": {
  "kernelspec": {
   "display_name": "Python 3",
   "language": "python",
   "name": "python3"
  },
  "language_info": {
   "codemirror_mode": {
    "name": "ipython",
    "version": 3
   },
   "file_extension": ".py",
   "mimetype": "text/x-python",
   "name": "python",
   "nbconvert_exporter": "python",
   "pygments_lexer": "ipython3",
   "version": "3.13.1"
  }
 },
 "nbformat": 4,
 "nbformat_minor": 5
}
