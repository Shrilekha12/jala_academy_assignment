{
 "cells": [
  {
   "cell_type": "code",
   "execution_count": null,
   "id": "fcc503e4",
   "metadata": {},
   "outputs": [],
   "source": [
    "Write a program to generate Arithmetic Exception without exception handling "
   ]
  },
  {
   "cell_type": "code",
   "execution_count": 1,
   "id": "77283fd9",
   "metadata": {},
   "outputs": [
    {
     "ename": "ZeroDivisionError",
     "evalue": "division by zero",
     "output_type": "error",
     "traceback": [
      "\u001b[1;31m---------------------------------------------------------------------------\u001b[0m",
      "\u001b[1;31mZeroDivisionError\u001b[0m                         Traceback (most recent call last)",
      "Cell \u001b[1;32mIn[1], line 3\u001b[0m\n\u001b[0;32m      1\u001b[0m \u001b[38;5;66;03m# Program to generate Arithmetic Exception without exception handling\u001b[39;00m\n\u001b[1;32m----> 3\u001b[0m result \u001b[38;5;241m=\u001b[39m \u001b[38;5;241;43m10\u001b[39;49m\u001b[43m \u001b[49m\u001b[38;5;241;43m/\u001b[39;49m\u001b[43m \u001b[49m\u001b[38;5;241;43m0\u001b[39;49m  \u001b[38;5;66;03m# This will raise ZeroDivisionError\u001b[39;00m\n\u001b[0;32m      5\u001b[0m \u001b[38;5;28mprint\u001b[39m(\u001b[38;5;124m\"\u001b[39m\u001b[38;5;124mThis line will not be executed.\u001b[39m\u001b[38;5;124m\"\u001b[39m)\n",
      "\u001b[1;31mZeroDivisionError\u001b[0m: division by zero"
     ]
    }
   ],
   "source": [
    "# Program to generate Arithmetic Exception without exception handling\n",
    "\n",
    "result = 10 / 0  # This will raise ZeroDivisionError\n",
    "\n",
    "print(\"This line will not be executed.\")\n"
   ]
  },
  {
   "cell_type": "markdown",
   "id": "336d27af",
   "metadata": {},
   "source": [
    " Handle the Arithmetic exception using try-catch block"
   ]
  },
  {
   "cell_type": "code",
   "execution_count": 2,
   "id": "781b89ce",
   "metadata": {},
   "outputs": [
    {
     "name": "stdout",
     "output_type": "stream",
     "text": [
      "Error: Cannot divide by zero!\n",
      "Program continues after exception handling.\n"
     ]
    }
   ],
   "source": [
    "try:\n",
    "    result = 10 / 0  # This will raise ZeroDivisionError\n",
    "except ZeroDivisionError:\n",
    "    print(\"Error: Cannot divide by zero!\")\n",
    "\n",
    "print(\"Program continues after exception handling.\")\n"
   ]
  },
  {
   "cell_type": "markdown",
   "id": "5eff97f6",
   "metadata": {},
   "source": [
    "Write a method which throws exception, Call that method in main class without try block "
   ]
  },
  {
   "cell_type": "code",
   "execution_count": 3,
   "id": "65e14686",
   "metadata": {},
   "outputs": [
    {
     "ename": "ValueError",
     "evalue": "This is a custom exception!",
     "output_type": "error",
     "traceback": [
      "\u001b[1;31m---------------------------------------------------------------------------\u001b[0m",
      "\u001b[1;31mValueError\u001b[0m                                Traceback (most recent call last)",
      "Cell \u001b[1;32mIn[3], line 6\u001b[0m\n\u001b[0;32m      3\u001b[0m     \u001b[38;5;28;01mraise\u001b[39;00m \u001b[38;5;167;01mValueError\u001b[39;00m(\u001b[38;5;124m\"\u001b[39m\u001b[38;5;124mThis is a custom exception!\u001b[39m\u001b[38;5;124m\"\u001b[39m)\n\u001b[0;32m      5\u001b[0m \u001b[38;5;66;03m# Main code calling the method without try-except\u001b[39;00m\n\u001b[1;32m----> 6\u001b[0m \u001b[43mrisky_method\u001b[49m\u001b[43m(\u001b[49m\u001b[43m)\u001b[49m\n\u001b[0;32m      8\u001b[0m \u001b[38;5;28mprint\u001b[39m(\u001b[38;5;124m\"\u001b[39m\u001b[38;5;124mThis line will NOT execute because exception is not handled.\u001b[39m\u001b[38;5;124m\"\u001b[39m)\n",
      "Cell \u001b[1;32mIn[3], line 3\u001b[0m, in \u001b[0;36mrisky_method\u001b[1;34m()\u001b[0m\n\u001b[0;32m      2\u001b[0m \u001b[38;5;28;01mdef\u001b[39;00m\u001b[38;5;250m \u001b[39m\u001b[38;5;21mrisky_method\u001b[39m():\n\u001b[1;32m----> 3\u001b[0m     \u001b[38;5;28;01mraise\u001b[39;00m \u001b[38;5;167;01mValueError\u001b[39;00m(\u001b[38;5;124m\"\u001b[39m\u001b[38;5;124mThis is a custom exception!\u001b[39m\u001b[38;5;124m\"\u001b[39m)\n",
      "\u001b[1;31mValueError\u001b[0m: This is a custom exception!"
     ]
    }
   ],
   "source": [
    "# Define a method that throws an exception\n",
    "def risky_method():\n",
    "    raise ValueError(\"This is a custom exception!\")\n",
    "\n",
    "# Main code calling the method without try-except\n",
    "risky_method()\n",
    "\n",
    "print(\"This line will NOT execute because exception is not handled.\")\n"
   ]
  },
  {
   "cell_type": "markdown",
   "id": "7be16e3e",
   "metadata": {},
   "source": [
    "Write a program with multiple catch blocks"
   ]
  },
  {
   "cell_type": "code",
   "execution_count": 4,
   "id": "47fd0067",
   "metadata": {},
   "outputs": [
    {
     "name": "stdout",
     "output_type": "stream",
     "text": [
      "Result: 0.2564102564102564\n",
      "Caught IndexError: List index out of range.\n",
      "Program finished execution.\n"
     ]
    }
   ],
   "source": [
    "def multiple_exceptions():\n",
    "    try:\n",
    "        a = int(input(\"Enter a number: \"))\n",
    "        b = int(input(\"Enter another number: \"))\n",
    "        result = a / b\n",
    "        print(\"Result:\", result)\n",
    "\n",
    "        # Accessing index in a list (for IndexError demo)\n",
    "        my_list = [1, 2, 3]\n",
    "        print(\"Element at index 5:\", my_list[5])  # This may raise IndexError\n",
    "\n",
    "    except ZeroDivisionError:\n",
    "        print(\"Caught ZeroDivisionError: Cannot divide by zero.\")\n",
    "\n",
    "    except ValueError:\n",
    "        print(\"Caught ValueError: Invalid input. Please enter integers only.\")\n",
    "\n",
    "    except IndexError:\n",
    "        print(\"Caught IndexError: List index out of range.\")\n",
    "\n",
    "    except Exception as e:\n",
    "        print(\"Caught General Exception:\", e)\n",
    "\n",
    "    print(\"Program finished execution.\")\n",
    "\n",
    "# Call the function\n",
    "multiple_exceptions()\n"
   ]
  },
  {
   "cell_type": "markdown",
   "id": "ac4ec798",
   "metadata": {},
   "source": [
    "Write a program to throw exception with your own message"
   ]
  },
  {
   "cell_type": "code",
   "execution_count": 5,
   "id": "d516a79c",
   "metadata": {},
   "outputs": [
    {
     "name": "stdout",
     "output_type": "stream",
     "text": [
      "Access Granted.\n"
     ]
    }
   ],
   "source": [
    "def check_age(age):\n",
    "    if age < 18:\n",
    "        raise ValueError(\"Access Denied: You must be at least 18 years old.\")\n",
    "    else:\n",
    "        print(\"Access Granted.\")\n",
    "\n",
    "# Main code\n",
    "age_input = int(input(\"Enter your age: \"))\n",
    "check_age(age_input)\n"
   ]
  },
  {
   "cell_type": "markdown",
   "id": "b2b2ee17",
   "metadata": {},
   "source": [
    "Write a program to create your own exception "
   ]
  },
  {
   "cell_type": "code",
   "execution_count": 6,
   "id": "bc359936",
   "metadata": {},
   "outputs": [
    {
     "name": "stdout",
     "output_type": "stream",
     "text": [
      "Access Granted.\n"
     ]
    }
   ],
   "source": [
    "# Step 1: Create a custom exception class\n",
    "class UnderAgeError(Exception):\n",
    "    def __init__(self, age, message=\"You must be at least 18 years old.\"):\n",
    "        self.age = age\n",
    "        self.message = message\n",
    "        super().__init__(self.message)\n",
    "\n",
    "# Step 2: Function that raises the custom exception\n",
    "def check_age(age):\n",
    "    if age < 18:\n",
    "        raise UnderAgeError(age)\n",
    "    else:\n",
    "        print(\"Access Granted.\")\n",
    "\n",
    "# Step 3: Main program using try-except to handle custom exception\n",
    "try:\n",
    "    user_age = int(input(\"Enter your age: \"))\n",
    "    check_age(user_age)\n",
    "except UnderAgeError as e:\n",
    "    print(f\"UnderAgeError: {e}\")\n",
    "except ValueError:\n",
    "    print(\"Please enter a valid number.\")\n"
   ]
  },
  {
   "cell_type": "markdown",
   "id": "9972b7c0",
   "metadata": {},
   "source": [
    "Write a program with finally block "
   ]
  },
  {
   "cell_type": "code",
   "execution_count": 7,
   "id": "49c74ec3",
   "metadata": {},
   "outputs": [
    {
     "name": "stdout",
     "output_type": "stream",
     "text": [
      "Result: 0.6285714285714286\n",
      "This is the finally block. It always runs.\n"
     ]
    }
   ],
   "source": [
    "def example_finally():\n",
    "    try:\n",
    "        num1 = int(input(\"Enter a number: \"))\n",
    "        num2 = int(input(\"Enter another number: \"))\n",
    "        result = num1 / num2\n",
    "        print(\"Result:\", result)\n",
    "    except ZeroDivisionError:\n",
    "        print(\"Error: Cannot divide by zero.\")\n",
    "    except ValueError:\n",
    "        print(\"Error: Invalid input. Please enter numbers only.\")\n",
    "    finally:\n",
    "        print(\"This is the finally block. It always runs.\")\n",
    "\n",
    "# Call the function\n",
    "example_finally()\n"
   ]
  },
  {
   "cell_type": "markdown",
   "id": "f2ccb79e",
   "metadata": {},
   "source": [
    "Write a program to generate Arithmetic Exception"
   ]
  },
  {
   "cell_type": "code",
   "execution_count": null,
   "id": "9fa9770b",
   "metadata": {},
   "outputs": [
    {
     "ename": "ZeroDivisionError",
     "evalue": "division by zero",
     "output_type": "error",
     "traceback": [
      "\u001b[1;31m---------------------------------------------------------------------------\u001b[0m",
      "\u001b[1;31mZeroDivisionError\u001b[0m                         Traceback (most recent call last)",
      "Cell \u001b[1;32mIn[8], line 7\u001b[0m\n\u001b[0;32m      4\u001b[0m b \u001b[38;5;241m=\u001b[39m \u001b[38;5;241m0\u001b[39m\n\u001b[0;32m      6\u001b[0m \u001b[38;5;66;03m# This will raise ZeroDivisionError\u001b[39;00m\n\u001b[1;32m----> 7\u001b[0m result \u001b[38;5;241m=\u001b[39m \u001b[43ma\u001b[49m\u001b[43m \u001b[49m\u001b[38;5;241;43m/\u001b[39;49m\u001b[43m \u001b[49m\u001b[43mb\u001b[49m\n\u001b[0;32m      9\u001b[0m \u001b[38;5;28mprint\u001b[39m(\u001b[38;5;124m\"\u001b[39m\u001b[38;5;124mResult is:\u001b[39m\u001b[38;5;124m\"\u001b[39m, result)  \u001b[38;5;66;03m# This line will not be executed\u001b[39;00m\n",
      "\u001b[1;31mZeroDivisionError\u001b[0m: division by zero"
     ]
    }
   ],
   "source": [
    "\n",
    "\n",
    "a = 10\n",
    "b = 0\n",
    "\n",
    "# This will raise ZeroDivisionError\n",
    "result = a / b\n",
    "\n",
    "print(\"Result is:\", result)  # This line will not be executed\n"
   ]
  },
  {
   "cell_type": "markdown",
   "id": "58d2bd3c",
   "metadata": {},
   "source": [
    "Write a program to generate FileNotFoundException"
   ]
  },
  {
   "cell_type": "code",
   "execution_count": 9,
   "id": "cdb623db",
   "metadata": {},
   "outputs": [
    {
     "ename": "FileNotFoundError",
     "evalue": "[Errno 2] No such file or directory: 'non_existent_file.txt'",
     "output_type": "error",
     "traceback": [
      "\u001b[1;31m---------------------------------------------------------------------------\u001b[0m",
      "\u001b[1;31mFileNotFoundError\u001b[0m                         Traceback (most recent call last)",
      "Cell \u001b[1;32mIn[9], line 5\u001b[0m\n\u001b[0;32m      2\u001b[0m file_path \u001b[38;5;241m=\u001b[39m \u001b[38;5;124m\"\u001b[39m\u001b[38;5;124mnon_existent_file.txt\u001b[39m\u001b[38;5;124m\"\u001b[39m\n\u001b[0;32m      4\u001b[0m \u001b[38;5;66;03m# Attempt to open the file in read mode\u001b[39;00m\n\u001b[1;32m----> 5\u001b[0m file \u001b[38;5;241m=\u001b[39m \u001b[38;5;28;43mopen\u001b[39;49m\u001b[43m(\u001b[49m\u001b[43mfile_path\u001b[49m\u001b[43m,\u001b[49m\u001b[43m \u001b[49m\u001b[38;5;124;43m\"\u001b[39;49m\u001b[38;5;124;43mr\u001b[39;49m\u001b[38;5;124;43m\"\u001b[39;49m\u001b[43m)\u001b[49m\n\u001b[0;32m      7\u001b[0m \u001b[38;5;66;03m# This line will not be executed if the file is not found\u001b[39;00m\n\u001b[0;32m      8\u001b[0m \u001b[38;5;28mprint\u001b[39m(\u001b[38;5;124m\"\u001b[39m\u001b[38;5;124mFile opened successfully.\u001b[39m\u001b[38;5;124m\"\u001b[39m)\n",
      "File \u001b[1;32m~\\AppData\\Roaming\\Python\\Python313\\site-packages\\IPython\\core\\interactiveshell.py:324\u001b[0m, in \u001b[0;36m_modified_open\u001b[1;34m(file, *args, **kwargs)\u001b[0m\n\u001b[0;32m    317\u001b[0m \u001b[38;5;28;01mif\u001b[39;00m file \u001b[38;5;129;01min\u001b[39;00m {\u001b[38;5;241m0\u001b[39m, \u001b[38;5;241m1\u001b[39m, \u001b[38;5;241m2\u001b[39m}:\n\u001b[0;32m    318\u001b[0m     \u001b[38;5;28;01mraise\u001b[39;00m \u001b[38;5;167;01mValueError\u001b[39;00m(\n\u001b[0;32m    319\u001b[0m         \u001b[38;5;124mf\u001b[39m\u001b[38;5;124m\"\u001b[39m\u001b[38;5;124mIPython won\u001b[39m\u001b[38;5;124m'\u001b[39m\u001b[38;5;124mt let you open fd=\u001b[39m\u001b[38;5;132;01m{\u001b[39;00mfile\u001b[38;5;132;01m}\u001b[39;00m\u001b[38;5;124m by default \u001b[39m\u001b[38;5;124m\"\u001b[39m\n\u001b[0;32m    320\u001b[0m         \u001b[38;5;124m\"\u001b[39m\u001b[38;5;124mas it is likely to crash IPython. If you know what you are doing, \u001b[39m\u001b[38;5;124m\"\u001b[39m\n\u001b[0;32m    321\u001b[0m         \u001b[38;5;124m\"\u001b[39m\u001b[38;5;124myou can use builtins\u001b[39m\u001b[38;5;124m'\u001b[39m\u001b[38;5;124m open.\u001b[39m\u001b[38;5;124m\"\u001b[39m\n\u001b[0;32m    322\u001b[0m     )\n\u001b[1;32m--> 324\u001b[0m \u001b[38;5;28;01mreturn\u001b[39;00m \u001b[43mio_open\u001b[49m\u001b[43m(\u001b[49m\u001b[43mfile\u001b[49m\u001b[43m,\u001b[49m\u001b[43m \u001b[49m\u001b[38;5;241;43m*\u001b[39;49m\u001b[43margs\u001b[49m\u001b[43m,\u001b[49m\u001b[43m \u001b[49m\u001b[38;5;241;43m*\u001b[39;49m\u001b[38;5;241;43m*\u001b[39;49m\u001b[43mkwargs\u001b[49m\u001b[43m)\u001b[49m\n",
      "\u001b[1;31mFileNotFoundError\u001b[0m: [Errno 2] No such file or directory: 'non_existent_file.txt'"
     ]
    }
   ],
   "source": [
    "\n",
    "# This file does NOT exist\n",
    "file_path = \"non_existent_file.txt\"\n",
    "\n",
    "# Attempt to open the file in read mode\n",
    "file = open(file_path, \"r\")\n",
    "\n",
    "# This line will not be executed if the file is not found\n",
    "print(\"File opened successfully.\")\n"
   ]
  },
  {
   "cell_type": "markdown",
   "id": "98d6aa02",
   "metadata": {},
   "source": [
    " Write a program to generate ClassNotFoundException"
   ]
  },
  {
   "cell_type": "code",
   "execution_count": 10,
   "id": "d4536ff7",
   "metadata": {},
   "outputs": [
    {
     "name": "stdout",
     "output_type": "stream",
     "text": [
      "Class 'NonExistentClass' not found in module 'math'.\n"
     ]
    }
   ],
   "source": [
    "import importlib\n",
    "\n",
    "module_name = \"math\"\n",
    "class_name = \"NonExistentClass\"\n",
    "\n",
    "try:\n",
    "    module = importlib.import_module(module_name)\n",
    "    cls = getattr(module, class_name)  # This will raise AttributeError\n",
    "except ModuleNotFoundError:\n",
    "    print(f\"Module '{module_name}' not found.\")\n",
    "except AttributeError:\n",
    "    print(f\"Class '{class_name}' not found in module '{module_name}'.\")\n"
   ]
  },
  {
   "cell_type": "markdown",
   "id": "9412543f",
   "metadata": {},
   "source": [
    " Write a program to generate IOException"
   ]
  },
  {
   "cell_type": "code",
   "execution_count": 11,
   "id": "3a942433",
   "metadata": {},
   "outputs": [
    {
     "ename": "FileNotFoundError",
     "evalue": "[Errno 2] No such file or directory: '/invalid_path/invalid_file.txt'",
     "output_type": "error",
     "traceback": [
      "\u001b[1;31m---------------------------------------------------------------------------\u001b[0m",
      "\u001b[1;31mFileNotFoundError\u001b[0m                         Traceback (most recent call last)",
      "Cell \u001b[1;32mIn[11], line 5\u001b[0m\n\u001b[0;32m      1\u001b[0m \u001b[38;5;66;03m# Trying to open a file with an invalid path will raise OSError / IOError\u001b[39;00m\n\u001b[0;32m      3\u001b[0m invalid_path \u001b[38;5;241m=\u001b[39m \u001b[38;5;124m\"\u001b[39m\u001b[38;5;124m/invalid_path/invalid_file.txt\u001b[39m\u001b[38;5;124m\"\u001b[39m\n\u001b[1;32m----> 5\u001b[0m \u001b[38;5;28;01mwith\u001b[39;00m \u001b[38;5;28;43mopen\u001b[39;49m\u001b[43m(\u001b[49m\u001b[43minvalid_path\u001b[49m\u001b[43m,\u001b[49m\u001b[43m \u001b[49m\u001b[38;5;124;43m'\u001b[39;49m\u001b[38;5;124;43mr\u001b[39;49m\u001b[38;5;124;43m'\u001b[39;49m\u001b[43m)\u001b[49m \u001b[38;5;28;01mas\u001b[39;00m file:\n\u001b[0;32m      6\u001b[0m     content \u001b[38;5;241m=\u001b[39m file\u001b[38;5;241m.\u001b[39mread()\n",
      "File \u001b[1;32m~\\AppData\\Roaming\\Python\\Python313\\site-packages\\IPython\\core\\interactiveshell.py:324\u001b[0m, in \u001b[0;36m_modified_open\u001b[1;34m(file, *args, **kwargs)\u001b[0m\n\u001b[0;32m    317\u001b[0m \u001b[38;5;28;01mif\u001b[39;00m file \u001b[38;5;129;01min\u001b[39;00m {\u001b[38;5;241m0\u001b[39m, \u001b[38;5;241m1\u001b[39m, \u001b[38;5;241m2\u001b[39m}:\n\u001b[0;32m    318\u001b[0m     \u001b[38;5;28;01mraise\u001b[39;00m \u001b[38;5;167;01mValueError\u001b[39;00m(\n\u001b[0;32m    319\u001b[0m         \u001b[38;5;124mf\u001b[39m\u001b[38;5;124m\"\u001b[39m\u001b[38;5;124mIPython won\u001b[39m\u001b[38;5;124m'\u001b[39m\u001b[38;5;124mt let you open fd=\u001b[39m\u001b[38;5;132;01m{\u001b[39;00mfile\u001b[38;5;132;01m}\u001b[39;00m\u001b[38;5;124m by default \u001b[39m\u001b[38;5;124m\"\u001b[39m\n\u001b[0;32m    320\u001b[0m         \u001b[38;5;124m\"\u001b[39m\u001b[38;5;124mas it is likely to crash IPython. If you know what you are doing, \u001b[39m\u001b[38;5;124m\"\u001b[39m\n\u001b[0;32m    321\u001b[0m         \u001b[38;5;124m\"\u001b[39m\u001b[38;5;124myou can use builtins\u001b[39m\u001b[38;5;124m'\u001b[39m\u001b[38;5;124m open.\u001b[39m\u001b[38;5;124m\"\u001b[39m\n\u001b[0;32m    322\u001b[0m     )\n\u001b[1;32m--> 324\u001b[0m \u001b[38;5;28;01mreturn\u001b[39;00m \u001b[43mio_open\u001b[49m\u001b[43m(\u001b[49m\u001b[43mfile\u001b[49m\u001b[43m,\u001b[49m\u001b[43m \u001b[49m\u001b[38;5;241;43m*\u001b[39;49m\u001b[43margs\u001b[49m\u001b[43m,\u001b[49m\u001b[43m \u001b[49m\u001b[38;5;241;43m*\u001b[39;49m\u001b[38;5;241;43m*\u001b[39;49m\u001b[43mkwargs\u001b[49m\u001b[43m)\u001b[49m\n",
      "\u001b[1;31mFileNotFoundError\u001b[0m: [Errno 2] No such file or directory: '/invalid_path/invalid_file.txt'"
     ]
    }
   ],
   "source": [
    "# Trying to open a file with an invalid path will raise OSError / IOError\n",
    "\n",
    "invalid_path = \"/invalid_path/invalid_file.txt\"\n",
    "\n",
    "with open(invalid_path, 'r') as file:\n",
    "    content = file.read()\n"
   ]
  },
  {
   "cell_type": "markdown",
   "id": "b3ee72b1",
   "metadata": {},
   "source": [
    "Write a program to generate NoSuchFieldException"
   ]
  },
  {
   "cell_type": "code",
   "execution_count": 12,
   "id": "6e9234aa",
   "metadata": {},
   "outputs": [
    {
     "ename": "AttributeError",
     "evalue": "'Person' object has no attribute 'age'",
     "output_type": "error",
     "traceback": [
      "\u001b[1;31m---------------------------------------------------------------------------\u001b[0m",
      "\u001b[1;31mAttributeError\u001b[0m                            Traceback (most recent call last)",
      "Cell \u001b[1;32mIn[12], line 9\u001b[0m\n\u001b[0;32m      6\u001b[0m p \u001b[38;5;241m=\u001b[39m Person(\u001b[38;5;124m\"\u001b[39m\u001b[38;5;124mAlice\u001b[39m\u001b[38;5;124m\"\u001b[39m)\n\u001b[0;32m      8\u001b[0m \u001b[38;5;66;03m# Attempt to access a non-existent attribute\u001b[39;00m\n\u001b[1;32m----> 9\u001b[0m \u001b[38;5;28mprint\u001b[39m(\u001b[43mp\u001b[49m\u001b[38;5;241;43m.\u001b[39;49m\u001b[43mage\u001b[49m)  \u001b[38;5;66;03m# This will raise AttributeError\u001b[39;00m\n",
      "\u001b[1;31mAttributeError\u001b[0m: 'Person' object has no attribute 'age'"
     ]
    }
   ],
   "source": [
    "class Person:\n",
    "    def __init__(self, name):\n",
    "        self.name = name\n",
    "\n",
    "# Create an instance\n",
    "p = Person(\"Alice\")\n",
    "\n",
    "# Attempt to access a non-existent attribute\n",
    "print(p.age)  # This will raise AttributeError\n"
   ]
  }
 ],
 "metadata": {
  "kernelspec": {
   "display_name": "Python 3",
   "language": "python",
   "name": "python3"
  },
  "language_info": {
   "codemirror_mode": {
    "name": "ipython",
    "version": 3
   },
   "file_extension": ".py",
   "mimetype": "text/x-python",
   "name": "python",
   "nbconvert_exporter": "python",
   "pygments_lexer": "ipython3",
   "version": "3.13.1"
  }
 },
 "nbformat": 4,
 "nbformat_minor": 5
}
