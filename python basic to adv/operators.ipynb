{
 "cells": [
  {
   "cell_type": "markdown",
   "id": "1fc272e2",
   "metadata": {},
   "source": [
    "1.Write a function for arithmetic operators(+,-,*,/) "
   ]
  },
  {
   "cell_type": "code",
   "execution_count": null,
   "id": "0f253e08",
   "metadata": {},
   "outputs": [
    {
     "name": "stdout",
     "output_type": "stream",
     "text": [
      "Addition (a + b): 15\n",
      "Subtraction (a - b): 5\n",
      "Multiplication (a * b): 50\n",
      "Division (a / b): 2.0\n"
     ]
    }
   ],
   "source": [
    "def arithmetic_operations(a, b):\n",
    "    print(\"Addition (a + b):\", a + b)\n",
    "    print(\"Subtraction (a - b):\", a - b)\n",
    "    print(\"Multiplication (a * b):\", a * b)\n",
    "    \n",
    "    if b != 0:\n",
    "        print(\"Division (a / b):\", a / b)\n",
    "    else:\n",
    "        print(\"Division by zero is not allowed.\")\n",
    "arithmetic_operations(10, 5)\n"
   ]
  },
  {
   "cell_type": "markdown",
   "id": "79a8a98f",
   "metadata": {},
   "source": [
    " 2.Write a method for increment and decrement operators(++, --)"
   ]
  },
  {
   "cell_type": "code",
   "execution_count": null,
   "id": "e918bb76",
   "metadata": {},
   "outputs": [
    {
     "name": "stdout",
     "output_type": "stream",
     "text": [
      "Original value of x: 10\n",
      "After increment (x += 1): 11\n",
      "After decrement (x -= 1): 10\n"
     ]
    }
   ],
   "source": [
    "def increment_decrement():\n",
    "    x = 10\n",
    "    print(\"Original value of x:\", x)\n",
    "\n",
    "    x += 1\n",
    "    print(\"After increment (x += 1):\", x)\n",
    "\n",
    "    x -= 1\n",
    "    print(\"After decrement (x -= 1):\", x)\n",
    "increment_decrement()\n"
   ]
  },
  {
   "cell_type": "markdown",
   "id": "4b1819f1",
   "metadata": {},
   "source": [
    " 3.Write a program to find the two numbers equal or not."
   ]
  },
  {
   "cell_type": "code",
   "execution_count": null,
   "id": "077d9031",
   "metadata": {},
   "outputs": [
    {
     "name": "stdout",
     "output_type": "stream",
     "text": [
      "Both are not equal\n"
     ]
    }
   ],
   "source": [
    "x=10\n",
    "y=20\n",
    "if x==y:\n",
    "    print(\"Both are equal\")\n",
    "else:\n",
    "    print(\"Both are not equal\")\n"
   ]
  },
  {
   "cell_type": "markdown",
   "id": "fd394fa9",
   "metadata": {},
   "source": [
    "4.Program for relational operators (<,<==, >, >==) "
   ]
  },
  {
   "cell_type": "code",
   "execution_count": null,
   "id": "6d72315d",
   "metadata": {},
   "outputs": [
    {
     "name": "stdout",
     "output_type": "stream",
     "text": [
      "a = 10\n",
      "b = 20\n",
      "a < b: True\n",
      "a <= b: True\n",
      "a > b: False\n",
      "a >= b: False\n"
     ]
    }
   ],
   "source": [
    "def relational_operators(a, b):\n",
    "    print(\"a =\", a)\n",
    "    print(\"b =\", b)\n",
    "    \n",
    "    print(\"a < b:\", a < b)      # Less than\n",
    "    print(\"a <= b:\", a <= b)    # Less than or equal to\n",
    "    print(\"a > b:\", a > b)      # Greater than\n",
    "    print(\"a >= b:\", a >= b)    # Greater than or equal to\n",
    "\n",
    "# Example usage\n",
    "relational_operators(10, 20)"
   ]
  },
  {
   "cell_type": "markdown",
   "id": "b8d7233c",
   "metadata": {},
   "source": [
    "5. Print the smaller and larger number "
   ]
  },
  {
   "cell_type": "code",
   "execution_count": 1,
   "id": "47b246b4",
   "metadata": {},
   "outputs": [
    {
     "name": "stdout",
     "output_type": "stream",
     "text": [
      "Smaller number is: 10.0\n",
      "Larger number is: 29.0\n"
     ]
    },
    {
     "data": {
      "text/plain": [
       "20"
      ]
     },
     "execution_count": 1,
     "metadata": {},
     "output_type": "execute_result"
    }
   ],
   "source": [
    "# Single-line comment: This program finds the smaller and larger number\n",
    "\n",
    "# Input from the user\n",
    "num1 = float(input(\"Enter first number: \"))\n",
    "num2 = float(input(\"Enter second number: \"))\n",
    "\n",
    "# Using built-in functions to find min and max\n",
    "smaller = min(num1, num2)\n",
    "larger = max(num1, num2)\n",
    "\n",
    "# Output the results\n",
    "print(\"Smaller number is:\", smaller)\n",
    "print(\"Larger number is:\", larger)\n",
    "\n",
    "\"\"\"\n",
    "Multi-line comment:\n",
    "You can also compare using if-else like:\n",
    "if num1 > num2:\n",
    "    print(\"Larger is num1\")\n",
    "    print(\"Smaller is num2\")\n",
    "\"\"\""
   ]
  },
  {
   "cell_type": "markdown",
   "id": "c71ed4c9",
   "metadata": {},
   "source": []
  }
 ],
 "metadata": {
  "kernelspec": {
   "display_name": "Python 3",
   "language": "python",
   "name": "python3"
  },
  "language_info": {
   "codemirror_mode": {
    "name": "ipython",
    "version": 3
   },
   "file_extension": ".py",
   "mimetype": "text/x-python",
   "name": "python",
   "nbconvert_exporter": "python",
   "pygments_lexer": "ipython3",
   "version": "3.13.1"
  }
 },
 "nbformat": 4,
 "nbformat_minor": 5
}
