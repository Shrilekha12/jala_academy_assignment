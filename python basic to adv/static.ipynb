{
 "cells": [
  {
   "cell_type": "code",
   "execution_count": null,
   "id": "eef2412a",
   "metadata": {},
   "outputs": [],
   "source": [
    "1.Define a static variable and access that through a class"
   ]
  },
  {
   "cell_type": "code",
   "execution_count": 10,
   "id": "2efdb460",
   "metadata": {},
   "outputs": [],
   "source": [
    "class Student:\n",
    "    # Static (class) variable\n",
    "    school_name = \"Bright Future School\"\n",
    "\n",
    "    def __init__(self, name):\n",
    "        self.name = name\n",
    "\n",
    "# Accessing the\n"
   ]
  },
  {
   "cell_type": "markdown",
   "id": "adbe6a34",
   "metadata": {},
   "source": [
    "2.Define a static variable and access that through a instance"
   ]
  },
  {
   "cell_type": "code",
   "execution_count": 1,
   "id": "627abf44",
   "metadata": {},
   "outputs": [
    {
     "name": "stdout",
     "output_type": "stream",
     "text": [
      "Brand: Toyota\n",
      "Wheels (accessed through instance): 4\n"
     ]
    }
   ],
   "source": [
    "class Car:\n",
    "    # Static (class-level) variable\n",
    "    wheels = 4\n",
    "\n",
    "    def __init__(self, brand):\n",
    "        self.brand = brand\n",
    "\n",
    "# Create an instance\n",
    "car1 = Car(\"Toyota\")\n",
    "\n",
    "# Access static variable through the instance\n",
    "print(\"Brand:\", car1.brand)\n",
    "print(\"Wheels (accessed through instance):\", car1.wheels)\n"
   ]
  },
  {
   "cell_type": "markdown",
   "id": "ba7275cc",
   "metadata": {},
   "source": [
    "3.Define a static variable and change within the instance"
   ]
  },
  {
   "cell_type": "code",
   "execution_count": 11,
   "id": "81663ff7",
   "metadata": {},
   "outputs": [
    {
     "name": "stdout",
     "output_type": "stream",
     "text": [
      "car1 wheels: 6\n",
      "car2 wheels: 4\n",
      "Car.wheels: 4\n"
     ]
    }
   ],
   "source": [
    "class Car:\n",
    "    # Static (class) variable\n",
    "    wheels = 4\n",
    "\n",
    "    def __init__(self, brand):\n",
    "        self.brand = brand\n",
    "\n",
    "# Create instances\n",
    "car1 = Car(\"Toyota\")\n",
    "car2 = Car(\"Honda\")\n",
    "\n",
    "# Change static variable through one instance\n",
    "car1.wheels = 6\n",
    "\n",
    "# Print the values\n",
    "print(\"car1 wheels:\", car1.wheels)  \n",
    "print(\"car2 wheels:\", car2.wheels)  \n",
    "print(\"Car.wheels:\", Car.wheels)    \n"
   ]
  },
  {
   "cell_type": "markdown",
   "id": "148b8613",
   "metadata": {},
   "source": [
    "Define a static variable and change within the class"
   ]
  },
  {
   "cell_type": "code",
   "execution_count": 12,
   "id": "1d1b6f79",
   "metadata": {},
   "outputs": [
    {
     "name": "stdout",
     "output_type": "stream",
     "text": [
      "Before change:\n",
      "car1 wheels: 4\n",
      "car2 wheels: 4\n",
      "Car.wheels: 4\n",
      "\n",
      "After change:\n",
      "car1 wheels: 6\n",
      "car2 wheels: 6\n",
      "Car.wheels: 6\n"
     ]
    }
   ],
   "source": [
    "class Car:\n",
    "    # Static (class) variable\n",
    "    wheels = 4\n",
    "\n",
    "    @classmethod\n",
    "    def change_wheels(cls, new_wheel_count):\n",
    "        cls.wheels = new_wheel_count  # Change the static variable\n",
    "\n",
    "# Create instances\n",
    "car1 = Car()\n",
    "car2 = Car()\n",
    "\n",
    "print(\"Before change:\")\n",
    "print(\"car1 wheels:\", car1.wheels)\n",
    "print(\"car2 wheels:\", car2.wheels)\n",
    "print(\"Car.wheels:\", Car.wheels)\n",
    "\n",
    "# Change the static variable using the class method\n",
    "Car.change_wheels(6)\n",
    "\n",
    "print(\"\\nAfter change:\")\n",
    "print(\"car1 wheels:\", car1.wheels)\n",
    "print(\"car2 wheels:\", car2.wheels)\n",
    "print(\"Car.wheels:\", Car.wheels)\n"
   ]
  },
  {
   "cell_type": "markdown",
   "id": "e659bb9c",
   "metadata": {},
   "source": []
  }
 ],
 "metadata": {
  "kernelspec": {
   "display_name": "Python 3",
   "language": "python",
   "name": "python3"
  },
  "language_info": {
   "codemirror_mode": {
    "name": "ipython",
    "version": 3
   },
   "file_extension": ".py",
   "mimetype": "text/x-python",
   "name": "python",
   "nbconvert_exporter": "python",
   "pygments_lexer": "ipython3",
   "version": "3.13.1"
  }
 },
 "nbformat": 4,
 "nbformat_minor": 5
}
