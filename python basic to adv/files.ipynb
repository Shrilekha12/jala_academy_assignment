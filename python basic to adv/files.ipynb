{
 "cells": [
  {
   "cell_type": "markdown",
   "id": "6a60b06e",
   "metadata": {},
   "source": [
    " Write a program to write text to .txt file using  InputStream"
   ]
  },
  {
   "cell_type": "code",
   "execution_count": 2,
   "id": "03f27e6d",
   "metadata": {},
   "outputs": [
    {
     "name": "stdout",
     "output_type": "stream",
     "text": [
      "Text written to output.txt successfully.\n"
     ]
    }
   ],
   "source": [
    "import io\n",
    "\n",
    "# Simulating InputStream with StringIO\n",
    "input_stream = io.StringIO(\"This is some sample text from an input stream.\")\n",
    "\n",
    "# Open a file to write\n",
    "with open(\"example.txt\", \"w\") as file:\n",
    "    # Read from the simulated input stream and write to the file\n",
    "    file.write(input_stream.read())\n",
    "\n",
    "# Close the stream\n",
    "input_stream.close()\n",
    "\n",
    "print(\"Text written to output.txt successfully.\")\n"
   ]
  },
  {
   "cell_type": "markdown",
   "id": "434d2875",
   "metadata": {},
   "source": [
    "Write a program to read a file stream "
   ]
  },
  {
   "cell_type": "code",
   "execution_count": 4,
   "id": "9eb3ba71",
   "metadata": {},
   "outputs": [
    {
     "name": "stdout",
     "output_type": "stream",
     "text": [
      "File content:\n",
      "This is some sample text from an input stream.\n"
     ]
    }
   ],
   "source": [
    "# Open the file in read mode\n",
    "with open(\"example.txt\", \"r\") as file:\n",
    "    # Read the entire file content\n",
    "    content = file.read()\n",
    "\n",
    "print(\"File content:\")\n",
    "print(content)\n"
   ]
  },
  {
   "cell_type": "markdown",
   "id": "8dbe8a41",
   "metadata": {},
   "source": [
    "Write a program to read a file stream supports random access "
   ]
  },
  {
   "cell_type": "code",
   "execution_count": 7,
   "id": "0f1f4142",
   "metadata": {},
   "outputs": [
    {
     "name": "stdout",
     "output_type": "stream",
     "text": [
      "First 10 characters: This is so\n",
      "Current position after reading 10 chars: 10\n",
      "Moved to position 5\n",
      "Characters from position 5 to 15: is some sa\n"
     ]
    }
   ],
   "source": [
    "# Open file in read mode\n",
    "with open(\"example.txt\", \"r\") as file:\n",
    "    # Read first 10 characters\n",
    "    first_part = file.read(10)\n",
    "    print(\"First 10 characters:\", first_part)\n",
    "\n",
    "    # Get current position\n",
    "    pos = file.tell()\n",
    "    print(\"Current position after reading 10 chars:\", pos)\n",
    "\n",
    "    # Seek to position 5\n",
    "    file.seek(5)\n",
    "    print(\"Moved to position 5\")\n",
    "\n",
    "    # Read next 10 characters from position 5\n",
    "    next_part = file.read(10)\n",
    "    print(\"Characters from position 5 to 15:\", next_part)\n"
   ]
  },
  {
   "cell_type": "markdown",
   "id": "dde1cf23",
   "metadata": {},
   "source": [
    "Write a program to read a file a just to a particular index using seek() "
   ]
  },
  {
   "cell_type": "code",
   "execution_count": 8,
   "id": "1616352f",
   "metadata": {},
   "outputs": [
    {
     "name": "stdout",
     "output_type": "stream",
     "text": [
      "\n",
      "Content from index 10:\n",
      "me sample text from an input stream.\n"
     ]
    }
   ],
   "source": [
    "# Ask the user for the index to seek\n",
    "index = int(input(\"Enter the index to seek to: \"))\n",
    "\n",
    "# Open the file in read mode\n",
    "with open(\"example.txt\", \"r\") as file:\n",
    "    # Move the file pointer to the specified index\n",
    "    file.seek(index)\n",
    "\n",
    "    # Read the rest of the file from that index\n",
    "    content = file.read()\n",
    "\n",
    "    print(f\"\\nContent from index {index}:\")\n",
    "    print(content)\n"
   ]
  },
  {
   "cell_type": "markdown",
   "id": "7dc057d4",
   "metadata": {},
   "source": [
    "Write a program to check whether a file is having read access and write access permissions"
   ]
  },
  {
   "cell_type": "code",
   "execution_count": null,
   "id": "85a9e159",
   "metadata": {},
   "outputs": [
    {
     "name": "stdout",
     "output_type": "stream",
     "text": [
      "\n",
      "Checking access for: example.txt\n",
      "Read access: Yes\n",
      "Write access: Yes\n"
     ]
    }
   ],
   "source": [
    "import os\n",
    "\n",
    "# Get file path from us0er\n",
    "file_path = input(\"Enter the path of the file to check: \")\n",
    "\n",
    "# Check read access\n",
    "has_read_access = os.access(file_path, os.R_OK)\n",
    "\n",
    "# Check write access\n",
    "has_write_access = os.access(file_path, os.W_OK)\n",
    "\n",
    "# Display results\n",
    "print(f\"\\nChecking access for: {file_path}\")\n",
    "print(\"Read access:\", \"Yes\" if has_read_access else \"No\")\n",
    "print(\"Write access:\", \"Yes\" if has_write_access else \"No\")\n"
   ]
  }
 ],
 "metadata": {
  "kernelspec": {
   "display_name": "Python 3",
   "language": "python",
   "name": "python3"
  },
  "language_info": {
   "codemirror_mode": {
    "name": "ipython",
    "version": 3
   },
   "file_extension": ".py",
   "mimetype": "text/x-python",
   "name": "python",
   "nbconvert_exporter": "python",
   "pygments_lexer": "ipython3",
   "version": "3.13.1"
  }
 },
 "nbformat": 4,
 "nbformat_minor": 5
}
