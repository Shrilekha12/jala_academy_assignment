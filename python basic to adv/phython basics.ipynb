{
 "cells": [
  {
   "cell_type": "markdown",
   "id": "fb06291b",
   "metadata": {},
   "source": [
    "1.Write a program to print your name"
   ]
  },
  {
   "cell_type": "code",
   "execution_count": 3,
   "id": "6d054169",
   "metadata": {},
   "outputs": [
    {
     "name": "stdout",
     "output_type": "stream",
     "text": [
      "shrilekha\n"
     ]
    }
   ],
   "source": [
    "name=\"your name\"\n",
    "print(\"shrilekha\");"
   ]
  },
  {
   "cell_type": "markdown",
   "id": "08980d36",
   "metadata": {},
   "source": [
    "2.Write a program for a Single line comment and multi-line comments "
   ]
  },
  {
   "cell_type": "code",
   "execution_count": 1,
   "id": "0b1ecccf",
   "metadata": {},
   "outputs": [
    {
     "name": "stdout",
     "output_type": "stream",
     "text": [
      "Hello, world!\n",
      "Comments do not affect program execution.\n"
     ]
    }
   ],
   "source": [
    "# This is a single-line comment\n",
    "# It explains that the next line will print \"Hello, world!\"\n",
    "\n",
    "print(\"Hello, world!\")  # This is also a single-line comment\n",
    "\n",
    "\"\"\"\n",
    "This is a multi-line comment.\n",
    "It can span across multiple lines.\n",
    "It is often used to provide detailed explanations\n",
    "or to comment out blocks of code during debugging.\n",
    "\"\"\"\n",
    "\n",
    "'''\n",
    "You can also use triple single-quotes for multi-line comments.\n",
    "This is less common, but still valid.\n",
    "'''\n",
    "\n",
    "print(\"Comments do not affect program execution.\")\n"
   ]
  },
  {
   "cell_type": "markdown",
   "id": "6930eb31",
   "metadata": {},
   "source": [
    "3.Define variables for different Data Types int, Boolean, char, float, double and print on the \n",
    "Console. "
   ]
  },
  {
   "cell_type": "code",
   "execution_count": 2,
   "id": "6b38ec1a",
   "metadata": {},
   "outputs": [
    {
     "name": "stdout",
     "output_type": "stream",
     "text": [
      "Integer value: 25\n",
      "Boolean value: True\n",
      "Character value: A\n",
      "Float value: 3.14\n",
      "Double value (actually float in Python): 2.718281828459045\n"
     ]
    }
   ],
   "source": [
    "# Integer\n",
    "my_int = 25\n",
    "print(\"Integer value:\", my_int)\n",
    "\n",
    "# Boolean\n",
    "my_bool = True\n",
    "print(\"Boolean value:\", my_bool)\n",
    "\n",
    "# Character (Python does not have a separate 'char' type, it uses string of length 1)\n",
    "my_char = 'A'\n",
    "print(\"Character value:\", my_char)\n",
    "\n",
    "# Float (floating-point number)\n",
    "my_float = 3.14\n",
    "print(\"Float value:\", my_float)\n",
    "\n",
    "# Double (Python uses float for both float and double precision)\n",
    "my_double = 2.718281828459045\n",
    "print(\"Double value (actually float in Python):\", my_double)\n"
   ]
  },
  {
   "cell_type": "markdown",
   "id": "9bab23b0",
   "metadata": {},
   "source": [
    "4.Define the local and Global variables with the same name and print both variables and \n",
    "understand the scope of the variables "
   ]
  },
  {
   "cell_type": "code",
   "execution_count": null,
   "id": "57448683",
   "metadata": {},
   "outputs": [
    {
     "name": "stdout",
     "output_type": "stream",
     "text": [
      "Local variable x inside function: 20\n",
      "Global variable x outside function: 10\n"
     ]
    }
   ],
   "source": [
    "x = 10\n",
    "def my_function():\n",
    "    x = 20\n",
    "    print(\"Local variable x inside function:\", x)\n",
    "my_function()\n",
    "print(\"Global variable x outside function:\", x)\n"
   ]
  },
  {
   "cell_type": "markdown",
   "id": "dce29d87",
   "metadata": {},
   "source": []
  }
 ],
 "metadata": {
  "kernelspec": {
   "display_name": "Python 3",
   "language": "python",
   "name": "python3"
  },
  "language_info": {
   "codemirror_mode": {
    "name": "ipython",
    "version": 3
   },
   "file_extension": ".py",
   "mimetype": "text/x-python",
   "name": "python",
   "nbconvert_exporter": "python",
   "pygments_lexer": "ipython3",
   "version": "3.13.1"
  }
 },
 "nbformat": 4,
 "nbformat_minor": 5
}
