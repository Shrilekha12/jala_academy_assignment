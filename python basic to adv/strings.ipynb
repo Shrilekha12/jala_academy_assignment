{
 "cells": [
  {
   "cell_type": "code",
   "execution_count": null,
   "id": "3e779054",
   "metadata": {},
   "outputs": [],
   "source": [
    "Different ways creating a string"
   ]
  },
  {
   "cell_type": "code",
   "execution_count": null,
   "id": "eaf5ba26",
   "metadata": {},
   "outputs": [],
   "source": [
    "str1 = 'Hello'\n",
    "str2 = \"World\"\n",
    "str3 = '''This is\n",
    "a multi-line\n",
    "string'''\n",
    "\n",
    "str4 = \"\"\"This is\n",
    "another multi-line\n",
    "string\"\"\"\n",
    "str5 = str(123)  # Converts integer to string: \"123\"\n",
    "\n"
   ]
  },
  {
   "cell_type": "markdown",
   "id": "b4a70fe9",
   "metadata": {},
   "source": [
    "Concatenating two strings using + operator"
   ]
  },
  {
   "cell_type": "code",
   "execution_count": 2,
   "id": "43c2ac94",
   "metadata": {},
   "outputs": [
    {
     "name": "stdout",
     "output_type": "stream",
     "text": [
      "Concatenated String: Hello World\n"
     ]
    }
   ],
   "source": [
    "str1 = \"Hello\"\n",
    "str2 = \"World\"\n",
    "\n",
    "# Concatenating using +\n",
    "result = str1 + \" \" + str2\n",
    "\n",
    "print(\"Concatenated String:\", result)\n"
   ]
  },
  {
   "cell_type": "markdown",
   "id": "f694a949",
   "metadata": {},
   "source": [
    "Finding the length of the string"
   ]
  },
  {
   "cell_type": "code",
   "execution_count": 3,
   "id": "dc1d903b",
   "metadata": {},
   "outputs": [
    {
     "name": "stdout",
     "output_type": "stream",
     "text": [
      "Length of the string: 14\n"
     ]
    }
   ],
   "source": [
    "text = \"Hello, Python!\"\n",
    "length = len(text)\n",
    "\n",
    "print(\"Length of the string:\", length)\n"
   ]
  },
  {
   "cell_type": "markdown",
   "id": "54995f2f",
   "metadata": {},
   "source": [
    "Extract a string using Substring"
   ]
  },
  {
   "cell_type": "code",
   "execution_count": 4,
   "id": "39dba6ce",
   "metadata": {},
   "outputs": [
    {
     "name": "stdout",
     "output_type": "stream",
     "text": [
      "Substring 1: Python\n",
      "Substring 2: Programming\n"
     ]
    }
   ],
   "source": [
    "text = \"Python Programming\"\n",
    "sub1 = text[0:6]\n",
    "sub2 = text[7:]\n",
    "\n",
    "print(\"Substring 1:\", sub1)\n",
    "print(\"Substring 2:\", sub2)\n"
   ]
  },
  {
   "cell_type": "markdown",
   "id": "6e603c2a",
   "metadata": {},
   "source": [
    "Searching in strings using index()"
   ]
  },
  {
   "cell_type": "code",
   "execution_count": 5,
   "id": "91508193",
   "metadata": {},
   "outputs": [
    {
     "name": "stdout",
     "output_type": "stream",
     "text": [
      "Index of 'Python': 6\n"
     ]
    }
   ],
   "source": [
    "text = \"Learn Python Programming\"\n",
    "\n",
    "# Search for the position of \"Python\"\n",
    "position = text.index(\"Python\")\n",
    "\n",
    "print(\"Index of 'Python':\", position)\n"
   ]
  },
  {
   "cell_type": "markdown",
   "id": "2f0c41d3",
   "metadata": {},
   "source": [
    "Matching a String Against a Regular Expression With matches() "
   ]
  },
  {
   "cell_type": "code",
   "execution_count": 6,
   "id": "af454065",
   "metadata": {},
   "outputs": [
    {
     "name": "stdout",
     "output_type": "stream",
     "text": [
      "Text1 matches: True\n",
      "Text2 matches: False\n"
     ]
    }
   ],
   "source": [
    "import re\n",
    "\n",
    "pattern = r\"\\d{3}-\\d{2}-\\d{4}\" \n",
    "text1 = \"123-45-6789\"\n",
    "text2 = \"123-456-789\"\n",
    "\n",
    "# Check full match\n",
    "match1 = re.fullmatch(pattern, text1)\n",
    "match2 = re.fullmatch(pattern, text2)\n",
    "\n",
    "print(\"Text1 matches:\", bool(match1))  \n",
    "print(\"Text2 matches:\", bool(match2)) \n"
   ]
  },
  {
   "cell_type": "markdown",
   "id": "3c57cbf8",
   "metadata": {},
   "source": [
    " Comparing strings "
   ]
  },
  {
   "cell_type": "code",
   "execution_count": 7,
   "id": "b98ccf1d",
   "metadata": {},
   "outputs": [
    {
     "name": "stdout",
     "output_type": "stream",
     "text": [
      "False\n",
      "True\n"
     ]
    }
   ],
   "source": [
    "str1 = \"Hello\"\n",
    "str2 = \"hello\"\n",
    "\n",
    "print(str1 == str2)  # False (case matters)\n",
    "print(str1 != str2)  # True\n"
   ]
  },
  {
   "cell_type": "markdown",
   "id": "b6ea9d1d",
   "metadata": {},
   "source": [
    "startsWith(), endsWith() and compareTo()"
   ]
  },
  {
   "cell_type": "code",
   "execution_count": 8,
   "id": "b59218eb",
   "metadata": {},
   "outputs": [
    {
     "name": "stdout",
     "output_type": "stream",
     "text": [
      "True\n",
      "False\n"
     ]
    }
   ],
   "source": [
    "text = \"Hello, Python!\"\n",
    "\n",
    "print(text.startswith(\"Hello\"))  # True\n",
    "print(text.startswith(\"Python\")) # False\n"
   ]
  },
  {
   "cell_type": "code",
   "execution_count": 9,
   "id": "56d2a003",
   "metadata": {},
   "outputs": [
    {
     "name": "stdout",
     "output_type": "stream",
     "text": [
      "True\n",
      "False\n"
     ]
    }
   ],
   "source": [
    "print(text.endswith(\"!\"))        # True\n",
    "print(text.endswith(\"Python\"))   # False\n"
   ]
  },
  {
   "cell_type": "code",
   "execution_count": 10,
   "id": "5c9cd0b1",
   "metadata": {},
   "outputs": [
    {
     "name": "stdout",
     "output_type": "stream",
     "text": [
      "str1 is less than str2\n"
     ]
    }
   ],
   "source": [
    "str1 = \"apple\"\n",
    "str2 = \"banana\"\n",
    "\n",
    "if str1 == str2:\n",
    "    print(\"Strings are equal\")\n",
    "elif str1 < str2:\n",
    "    print(\"str1 is less than str2\")\n",
    "else:\n",
    "    print(\"str1 is greater than str2\")\n"
   ]
  },
  {
   "cell_type": "markdown",
   "id": "b8cd9e69",
   "metadata": {},
   "source": [
    "Trimming strings with strip()"
   ]
  },
  {
   "cell_type": "code",
   "execution_count": 11,
   "id": "9ccc4f94",
   "metadata": {},
   "outputs": [
    {
     "name": "stdout",
     "output_type": "stream",
     "text": [
      "Before strip: '   Hello, Python!   '\n",
      "After strip: 'Hello, Python!'\n"
     ]
    }
   ],
   "source": [
    "text = \"   Hello, Python!   \"\n",
    "clean_text = text.strip()\n",
    "\n",
    "print(f\"Before strip: '{text}'\")\n",
    "print(f\"After strip: '{clean_text}'\")\n"
   ]
  },
  {
   "cell_type": "markdown",
   "id": "546a58e9",
   "metadata": {},
   "source": [
    "Replacing characters in strings with replace() "
   ]
  },
  {
   "cell_type": "code",
   "execution_count": null,
   "id": "40da28d7",
   "metadata": {},
   "outputs": [
    {
     "name": "stdout",
     "output_type": "stream",
     "text": [
      "Hi, world! Hi, Python!\n"
     ]
    }
   ],
   "source": [
    "text = \"Hello, world! Hello, Python!\"\n",
    "new_text = text.replace(\"Hello\", \"Hi\")\n",
    "\n",
    "print(new_text)\n"
   ]
  },
  {
   "cell_type": "markdown",
   "id": "b98a9af0",
   "metadata": {},
   "source": [
    " Splitting strings with split()"
   ]
  },
  {
   "cell_type": "code",
   "execution_count": 13,
   "id": "c38e963b",
   "metadata": {},
   "outputs": [
    {
     "name": "stdout",
     "output_type": "stream",
     "text": [
      "['Python', 'is', 'awesome']\n"
     ]
    }
   ],
   "source": [
    "text = \"Python is awesome\"\n",
    "words = text.split()\n",
    "\n",
    "print(words)\n"
   ]
  },
  {
   "cell_type": "code",
   "execution_count": 14,
   "id": "34a0d616",
   "metadata": {},
   "outputs": [
    {
     "name": "stdout",
     "output_type": "stream",
     "text": [
      "['apple', 'banana', 'cherry']\n"
     ]
    }
   ],
   "source": [
    "csv = \"apple,banana,cherry\"\n",
    "fruits = csv.split(',')\n",
    "\n",
    "print(fruits)\n"
   ]
  },
  {
   "cell_type": "markdown",
   "id": "69c59461",
   "metadata": {},
   "source": [
    " Converting integer objects to Strings "
   ]
  },
  {
   "cell_type": "code",
   "execution_count": 15,
   "id": "17cf3ab4",
   "metadata": {},
   "outputs": [
    {
     "name": "stdout",
     "output_type": "stream",
     "text": [
      "<class 'str'>\n",
      "123\n"
     ]
    }
   ],
   "source": [
    "num = 123\n",
    "str_num = str(num)\n",
    "\n",
    "print(type(str_num))  # <class 'str'>\n",
    "print(str_num)        # \"123\"\n"
   ]
  },
  {
   "cell_type": "markdown",
   "id": "7b47a61a",
   "metadata": {},
   "source": [
    "Converting to uppercase and lowercase"
   ]
  },
  {
   "cell_type": "code",
   "execution_count": 16,
   "id": "b5a28687",
   "metadata": {},
   "outputs": [
    {
     "name": "stdout",
     "output_type": "stream",
     "text": [
      "HELLO, PYTHON!\n"
     ]
    }
   ],
   "source": [
    "text = \"Hello, Python!\"\n",
    "upper_text = text.upper()\n",
    "print(upper_text)  # Output: HELLO, PYTHON!\n"
   ]
  },
  {
   "cell_type": "code",
   "execution_count": 17,
   "id": "4bcca850",
   "metadata": {},
   "outputs": [
    {
     "name": "stdout",
     "output_type": "stream",
     "text": [
      "hello, python!\n"
     ]
    }
   ],
   "source": [
    "text = \"Hello, Python!\"\n",
    "lower_text = text.lower()\n",
    "print(lower_text)  # Output: hello, python!\n"
   ]
  }
 ],
 "metadata": {
  "kernelspec": {
   "display_name": "Python 3",
   "language": "python",
   "name": "python3"
  },
  "language_info": {
   "codemirror_mode": {
    "name": "ipython",
    "version": 3
   },
   "file_extension": ".py",
   "mimetype": "text/x-python",
   "name": "python",
   "nbconvert_exporter": "python",
   "pygments_lexer": "ipython3",
   "version": "3.13.1"
  }
 },
 "nbformat": 4,
 "nbformat_minor": 5
}
