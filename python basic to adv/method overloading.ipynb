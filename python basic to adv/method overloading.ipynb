{
 "cells": [
  {
   "cell_type": "code",
   "execution_count": null,
   "id": "9ec104e1",
   "metadata": {},
   "outputs": [],
   "source": [
    "Write two methods with the same name but different number of parameters of same type \n",
    "and call the methods "
   ]
  },
  {
   "cell_type": "code",
   "execution_count": 1,
   "id": "66165e53",
   "metadata": {},
   "outputs": [
    {
     "name": "stdout",
     "output_type": "stream",
     "text": [
      "Hello!\n",
      "Hello, Alice!\n",
      "Hello, Alice and Bob!\n"
     ]
    }
   ],
   "source": [
    "class MyClass:\n",
    "    def greet(self, *args):\n",
    "        if len(args) == 0:\n",
    "            print(\"Hello!\")\n",
    "        elif len(args) == 1:\n",
    "            print(f\"Hello, {args[0]}!\")\n",
    "        elif len(args) == 2:\n",
    "            print(f\"Hello, {args[0]} and {args[1]}!\")\n",
    "        else:\n",
    "            print(\"Hello everyone!\")\n",
    "\n",
    "# Usage\n",
    "obj = MyClass()\n",
    "obj.greet()                  # No parameters\n",
    "obj.greet(\"Alice\")           # One parameter\n",
    "obj.greet(\"Alice\", \"Bob\")    # Two parameters\n"
   ]
  },
  {
   "cell_type": "markdown",
   "id": "4241d777",
   "metadata": {},
   "source": [
    "Write two methods with the same name but different number of parameters of different \n",
    "data type and call the methods  "
   ]
  },
  {
   "cell_type": "code",
   "execution_count": 2,
   "id": "b590dfc5",
   "metadata": {},
   "outputs": [
    {
     "name": "stdout",
     "output_type": "stream",
     "text": [
      "Processing one integer: 10\n",
      "Processing int and string: 20, hello\n",
      "Unsupported parameters\n"
     ]
    }
   ],
   "source": [
    "class MyClass:\n",
    "    def process(self, *args):\n",
    "        if len(args) == 1 and isinstance(args[0], int):\n",
    "            print(f\"Processing one integer: {args[0]}\")\n",
    "        elif len(args) == 2 and isinstance(args[0], int) and isinstance(args[1], str):\n",
    "            print(f\"Processing int and string: {args[0]}, {args[1]}\")\n",
    "        else:\n",
    "            print(\"Unsupported parameters\")\n",
    "\n",
    "# Usage\n",
    "obj = MyClass()\n",
    "obj.process(10)           # One int parameter\n",
    "obj.process(20, \"hello\")  # One int and one string\n",
    "obj.process(\"oops\")       # Unsupported\n"
   ]
  },
  {
   "cell_type": "markdown",
   "id": "e12ec6ce",
   "metadata": {},
   "source": [
    " Write two methods with the same name and same number of parameters of same type "
   ]
  },
  {
   "cell_type": "code",
   "execution_count": 3,
   "id": "ac69e4e2",
   "metadata": {},
   "outputs": [
    {
     "name": "stdout",
     "output_type": "stream",
     "text": [
      "Hi there, Alice!\n"
     ]
    }
   ],
   "source": [
    "class MyClass:\n",
    "    def greet(self, name):\n",
    "        print(f\"Hello, {name}!\")\n",
    "\n",
    "    def greet(self, name):\n",
    "        print(f\"Hi there, {name}!\")\n",
    "\n",
    "obj = MyClass()\n",
    "obj.greet(\"Alice\")\n"
   ]
  }
 ],
 "metadata": {
  "kernelspec": {
   "display_name": "Python 3",
   "language": "python",
   "name": "python3"
  },
  "language_info": {
   "codemirror_mode": {
    "name": "ipython",
    "version": 3
   },
   "file_extension": ".py",
   "mimetype": "text/x-python",
   "name": "python",
   "nbconvert_exporter": "python",
   "pygments_lexer": "ipython3",
   "version": "3.13.1"
  }
 },
 "nbformat": 4,
 "nbformat_minor": 5
}
