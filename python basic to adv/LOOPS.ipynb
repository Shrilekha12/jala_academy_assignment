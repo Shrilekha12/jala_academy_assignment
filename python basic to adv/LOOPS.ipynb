{
 "cells": [
  {
   "cell_type": "code",
   "execution_count": null,
   "id": "fbf684fc",
   "metadata": {},
   "outputs": [],
   "source": [
    "Write a program to print  “Bright IT Career”  ten times using for loop"
   ]
  },
  {
   "cell_type": "code",
   "execution_count": null,
   "id": "ce2b8e75",
   "metadata": {},
   "outputs": [
    {
     "name": "stdout",
     "output_type": "stream",
     "text": [
      "Bright IT Career\n",
      "Bright IT Career\n",
      "Bright IT Career\n",
      "Bright IT Career\n",
      "Bright IT Career\n",
      "Bright IT Career\n",
      "Bright IT Career\n",
      "Bright IT Career\n",
      "Bright IT Career\n",
      "Bright IT Career\n"
     ]
    }
   ],
   "source": [
    "\n",
    "for i in range(10):\n",
    "    print(\"Bright IT Career\")"
   ]
  },
  {
   "cell_type": "markdown",
   "id": "126f717f",
   "metadata": {},
   "source": [
    "Write a python program to print 1 to 20 numbers using the while loop.\n"
   ]
  },
  {
   "cell_type": "code",
   "execution_count": 6,
   "id": "065fe33a",
   "metadata": {},
   "outputs": [
    {
     "name": "stdout",
     "output_type": "stream",
     "text": [
      "1\n",
      "2\n",
      "3\n",
      "4\n",
      "5\n",
      "6\n",
      "7\n",
      "8\n",
      "9\n",
      "10\n",
      "11\n",
      "12\n",
      "13\n",
      "14\n",
      "15\n",
      "16\n",
      "17\n",
      "18\n",
      "19\n",
      "20\n"
     ]
    }
   ],
   "source": [
    "\n",
    "i = 1\n",
    "while i <= 20:\n",
    "    print(i)\n",
    "    i += 1  \n"
   ]
  },
  {
   "cell_type": "markdown",
   "id": "032331b7",
   "metadata": {},
   "source": [
    "Program to equal operator and not equal operators"
   ]
  },
  {
   "cell_type": "code",
   "execution_count": 8,
   "id": "5de4538d",
   "metadata": {},
   "outputs": [
    {
     "name": "stdout",
     "output_type": "stream",
     "text": [
      "a is equal to b\n",
      "a is equal to b (checked using !=)\n"
     ]
    }
   ],
   "source": [
    "# Input two numbers\n",
    "a = int(input(\"Enter first number: \"))\n",
    "b = int(input(\"Enter second number: \"))\n",
    "\n",
    "# Using equal to operator\n",
    "if a == b:\n",
    "    print(\"a is equal to b\")\n",
    "else:\n",
    "    print(\"a is NOT equal to b\")\n",
    "\n",
    "# Using not equal to operator\n",
    "if a != b:\n",
    "    print(\"a is not equal to b\")\n",
    "else:\n",
    "    print(\"a is equal to b (checked using !=)\")\n"
   ]
  },
  {
   "cell_type": "markdown",
   "id": "00276e36",
   "metadata": {},
   "source": [
    "Write a program to print the odd and even numbers."
   ]
  },
  {
   "cell_type": "code",
   "execution_count": 9,
   "id": "44db7f54",
   "metadata": {},
   "outputs": [
    {
     "name": "stdout",
     "output_type": "stream",
     "text": [
      "1 is Odd\n",
      "2 is Even\n",
      "3 is Odd\n",
      "4 is Even\n",
      "5 is Odd\n",
      "6 is Even\n",
      "7 is Odd\n",
      "8 is Even\n",
      "9 is Odd\n",
      "10 is Even\n",
      "11 is Odd\n",
      "12 is Even\n",
      "13 is Odd\n",
      "14 is Even\n",
      "15 is Odd\n",
      "16 is Even\n",
      "17 is Odd\n",
      "18 is Even\n",
      "19 is Odd\n",
      "20 is Even\n"
     ]
    }
   ],
   "source": [
    "\n",
    "for num in range(1, 21):\n",
    "    if num % 2 == 0:\n",
    "        print(f\"{num} is Even\")\n",
    "    else:\n",
    "        print(f\"{num} is Odd\")\n"
   ]
  },
  {
   "cell_type": "markdown",
   "id": "751086e3",
   "metadata": {},
   "source": [
    "Write a program to print largest number among three numbers."
   ]
  },
  {
   "cell_type": "code",
   "execution_count": 10,
   "id": "15641bfc",
   "metadata": {},
   "outputs": [
    {
     "name": "stdout",
     "output_type": "stream",
     "text": [
      "The largest number is: 30.0\n"
     ]
    }
   ],
   "source": [
    "\n",
    "a = float(input(\"Enter first number: \"))\n",
    "b = float(input(\"Enter second number: \"))\n",
    "c = float(input(\"Enter third number: \"))\n",
    "if a >= b and a >= c:\n",
    "    print(\"The largest number is:\", a)\n",
    "elif b >= a and b >= c:\n",
    "    print(\"The largest number is:\", b)\n",
    "else:\n",
    "    print(\"The largest number is:\", c)\n"
   ]
  },
  {
   "cell_type": "markdown",
   "id": "ed25b179",
   "metadata": {},
   "source": [
    "Write a  program to print even number between 10 and 20 using while"
   ]
  },
  {
   "cell_type": "code",
   "execution_count": 11,
   "id": "72170f20",
   "metadata": {},
   "outputs": [
    {
     "name": "stdout",
     "output_type": "stream",
     "text": [
      "10\n",
      "12\n",
      "14\n",
      "16\n",
      "18\n",
      "20\n"
     ]
    }
   ],
   "source": [
    "\n",
    "num = 10\n",
    "\n",
    "while num <= 20:\n",
    "    if num % 2 == 0:\n",
    "        print(num)\n",
    "    num += 1   \n"
   ]
  },
  {
   "cell_type": "markdown",
   "id": "3a231604",
   "metadata": {},
   "source": [
    "Write a program to print 1 to 10 using the do-while loop statement."
   ]
  },
  {
   "cell_type": "code",
   "execution_count": 12,
   "id": "4d99f647",
   "metadata": {},
   "outputs": [
    {
     "name": "stdout",
     "output_type": "stream",
     "text": [
      "1\n",
      "2\n",
      "3\n",
      "4\n",
      "5\n",
      "6\n",
      "7\n",
      "8\n",
      "9\n",
      "10\n"
     ]
    }
   ],
   "source": [
    "\n",
    "i = 1\n",
    "while True:\n",
    "    print(i)\n",
    "    i += 1\n",
    "    if i > 10:\n",
    "        break\n"
   ]
  },
  {
   "cell_type": "markdown",
   "id": "bbb7846c",
   "metadata": {},
   "source": [
    "\n",
    "Write a program to find Armstrong number or not"
   ]
  },
  {
   "cell_type": "code",
   "execution_count": 13,
   "id": "39cc52a2",
   "metadata": {},
   "outputs": [
    {
     "name": "stdout",
     "output_type": "stream",
     "text": [
      "153 is an Armstrong number.\n"
     ]
    }
   ],
   "source": [
    "num = int(input(\"Enter a number: \"))\n",
    "num_str = str(num)\n",
    "length = len(num_str)\n",
    "sum_of_powers = 0\n",
    "for digit in num_str:\n",
    "    sum_of_powers += int(digit) ** length\n",
    "if num == sum_of_powers:\n",
    "    print(f\"{num} is an Armstrong number.\")\n",
    "else:\n",
    "    print(f\"{num} is NOT an Armstrong number.\")\n"
   ]
  },
  {
   "cell_type": "markdown",
   "id": "a18054c6",
   "metadata": {},
   "source": [
    "Write a program to find the prime or not. "
   ]
  },
  {
   "cell_type": "code",
   "execution_count": 14,
   "id": "8abea865",
   "metadata": {},
   "outputs": [
    {
     "name": "stdout",
     "output_type": "stream",
     "text": [
      "17 is a prime number.\n"
     ]
    }
   ],
   "source": [
    "\n",
    "num = int(input(\"Enter a number: \"))\n",
    "if num < 2:\n",
    "    print(f\"{num} is NOT a prime number.\")\n",
    "else:\n",
    "    is_prime = True\n",
    "    for i in range(2, int(num ** 0.5) + 1):\n",
    "        if num % i == 0:\n",
    "            is_prime = False\n",
    "            break\n",
    "    if is_prime:\n",
    "        print(f\"{num} is a prime number.\")\n",
    "    else:\n",
    "        print(f\"{num} is NOT a prime number.\")\n"
   ]
  },
  {
   "cell_type": "markdown",
   "id": "2e84bcd0",
   "metadata": {},
   "source": [
    "Write a program to palindrome or not."
   ]
  },
  {
   "cell_type": "code",
   "execution_count": 16,
   "id": "2a28ce72",
   "metadata": {},
   "outputs": [
    {
     "name": "stdout",
     "output_type": "stream",
     "text": [
      "'11' is a palindrome.\n"
     ]
    }
   ],
   "source": [
    "\n",
    "text = input(\"Enter a string or number: \")\n",
    "if text == text[::-1]:\n",
    "    print(f\"'{text}' is a palindrome.\")\n",
    "else:\n",
    "    print(f\"'{text}' is NOT a palindrome.\")\n"
   ]
  },
  {
   "cell_type": "markdown",
   "id": "b39ed2aa",
   "metadata": {},
   "source": [
    "Program to check whether a number is EVEN or ODD using switch "
   ]
  },
  {
   "cell_type": "code",
   "execution_count": null,
   "id": "f498fb6f",
   "metadata": {},
   "outputs": [
    {
     "name": "stdout",
     "output_type": "stream",
     "text": [
      "The number is Even\n"
     ]
    }
   ],
   "source": [
    "def even():\n",
    "    print(\"The number is Even\")\n",
    "\n",
    "def odd():\n",
    "    print(\"The number is Odd\")\n",
    "\n",
    "num = int(input(\"Enter a number: \"))\n",
    "\n",
    "switch = {\n",
    "    0: even,\n",
    "    1: odd\n",
    "}\n",
    "switch[num % 2]()\n"
   ]
  },
  {
   "cell_type": "markdown",
   "id": "f624e1a3",
   "metadata": {},
   "source": [
    "Print gender (Male/Female) program according to given M/F using switch"
   ]
  },
  {
   "cell_type": "code",
   "execution_count": 20,
   "id": "10c69a35",
   "metadata": {},
   "outputs": [
    {
     "name": "stdout",
     "output_type": "stream",
     "text": [
      "Gender is Male\n"
     ]
    }
   ],
   "source": [
    "def male():\n",
    "    print(\"Gender is Male\")\n",
    "\n",
    "def female():\n",
    "    print(\"Gender is Female\")\n",
    "\n",
    "gender = input(\"Enter gender (M/F): \").upper()\n",
    "\n",
    "switch = {\n",
    "    \"M\": male,\n",
    "    \"F\": female\n",
    "}\n",
    "switch.get(gender, lambda: print(\"Invalid input\"))()\n"
   ]
  },
  {
   "cell_type": "markdown",
   "id": "7f04d10b",
   "metadata": {},
   "source": []
  }
 ],
 "metadata": {
  "kernelspec": {
   "display_name": "Python 3",
   "language": "python",
   "name": "python3"
  },
  "language_info": {
   "codemirror_mode": {
    "name": "ipython",
    "version": 3
   },
   "file_extension": ".py",
   "mimetype": "text/x-python",
   "name": "python",
   "nbconvert_exporter": "python",
   "pygments_lexer": "ipython3",
   "version": "3.13.1"
  }
 },
 "nbformat": 4,
 "nbformat_minor": 5
}
