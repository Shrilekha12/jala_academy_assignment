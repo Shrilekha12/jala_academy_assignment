{
 "cells": [
  {
   "cell_type": "code",
   "execution_count": null,
   "id": "20d53009",
   "metadata": {},
   "outputs": [],
   "source": [
    "Write a function to add integer values of an array "
   ]
  },
  {
   "cell_type": "code",
   "execution_count": null,
   "id": "1d2252e8",
   "metadata": {},
   "outputs": [
    {
     "name": "stdout",
     "output_type": "stream",
     "text": [
      "Sum of array: 15\n"
     ]
    }
   ],
   "source": [
    "def sum_array(arr):\n",
    "    total = 0\n",
    "    for num in arr:\n",
    "        total += num\n",
    "    return total\n",
    "numbers = [1, 2, 3, 4, 5]\n",
    "print(\"Sum of array:\", sum_array(numbers))\n"
   ]
  },
  {
   "cell_type": "markdown",
   "id": "33ec91e5",
   "metadata": {},
   "source": [
    "Write a function to calculate the average value of an array of integers"
   ]
  },
  {
   "cell_type": "code",
   "execution_count": 2,
   "id": "3a3867a5",
   "metadata": {},
   "outputs": [
    {
     "name": "stdout",
     "output_type": "stream",
     "text": [
      "Average value: 30.0\n"
     ]
    }
   ],
   "source": [
    "def average_array(arr):\n",
    "    if len(arr) == 0:\n",
    "        return 0  \n",
    "    total = sum(arr)\n",
    "    avg = total / len(arr)\n",
    "    return avg\n",
    "numbers = [10, 20, 30, 40, 50]\n",
    "print(\"Average value:\", average_array(numbers))\n"
   ]
  },
  {
   "cell_type": "markdown",
   "id": "a569b38b",
   "metadata": {},
   "source": [
    "Write a program to find the index of an array element"
   ]
  },
  {
   "cell_type": "code",
   "execution_count": 3,
   "id": "8f1e4a2c",
   "metadata": {},
   "outputs": [
    {
     "name": "stdout",
     "output_type": "stream",
     "text": [
      "Element 30 found at index 2\n"
     ]
    }
   ],
   "source": [
    "def find_index(arr, element):\n",
    "    if element in arr:\n",
    "        return arr.index(element)\n",
    "    else:\n",
    "        return -1 \n",
    "numbers = [10, 20, 30, 40, 50]\n",
    "element_to_find = 30\n",
    "\n",
    "index = find_index(numbers, element_to_find)\n",
    "if index != -1:\n",
    "    print(f\"Element {element_to_find} found at index {index}\")\n",
    "else:\n",
    "    print(f\"Element {element_to_find} not found in the array\")\n"
   ]
  },
  {
   "cell_type": "markdown",
   "id": "ad4d388f",
   "metadata": {},
   "source": [
    " Write a function to test if array contains a specific value "
   ]
  },
  {
   "cell_type": "code",
   "execution_count": 4,
   "id": "7b0e40d7",
   "metadata": {},
   "outputs": [
    {
     "name": "stdout",
     "output_type": "stream",
     "text": [
      "30 is present in the array.\n"
     ]
    }
   ],
   "source": [
    "def contains_value(arr, value):\n",
    "    return value in arr\n",
    "numbers = [10, 20, 30, 40, 50]\n",
    "value_to_check = 30\n",
    "\n",
    "if contains_value(numbers, value_to_check):\n",
    "    print(f\"{value_to_check} is present in the array.\")\n",
    "else:\n",
    "    print(f\"{value_to_check} is NOT present in the array.\")\n"
   ]
  },
  {
   "cell_type": "markdown",
   "id": "54dc8f66",
   "metadata": {},
   "source": [
    "Write a function to remove a specific element from an array"
   ]
  },
  {
   "cell_type": "code",
   "execution_count": 5,
   "id": "feb540a9",
   "metadata": {},
   "outputs": [
    {
     "name": "stdout",
     "output_type": "stream",
     "text": [
      "Updated array: [10, 30, 20, 40]\n"
     ]
    }
   ],
   "source": [
    "def remove_element(arr, value):\n",
    "    if value in arr:\n",
    "        arr.remove(value) \n",
    "        return arr\n",
    "    else:\n",
    "        return arr  \n",
    "numbers = [10, 20, 30, 20, 40]\n",
    "value_to_remove = 20\n",
    "\n",
    "result = remove_element(numbers, value_to_remove)\n",
    "print(\"Updated array:\", result)\n"
   ]
  },
  {
   "cell_type": "markdown",
   "id": "f1c4f141",
   "metadata": {},
   "source": [
    " Write a function to copy an array to another array"
   ]
  },
  {
   "cell_type": "code",
   "execution_count": 6,
   "id": "e02a67e0",
   "metadata": {},
   "outputs": [
    {
     "name": "stdout",
     "output_type": "stream",
     "text": [
      "Original array: [1, 2, 3, 4, 5]\n",
      "Copied array: [1, 2, 3, 4, 5]\n"
     ]
    }
   ],
   "source": [
    "def copy_array(arr):\n",
    "    new_arr = arr[:]\n",
    "    return new_arr\n",
    "\n",
    "# Example usage:\n",
    "original = [1, 2, 3, 4, 5]\n",
    "copied = copy_array(original)\n",
    "\n",
    "print(\"Original array:\", original)\n",
    "print(\"Copied array:\", copied)\n"
   ]
  },
  {
   "cell_type": "markdown",
   "id": "e199aafb",
   "metadata": {},
   "source": [
    "Write a function to insert an element at a specific position in the array "
   ]
  },
  {
   "cell_type": "code",
   "execution_count": 7,
   "id": "1ee8c618",
   "metadata": {},
   "outputs": [
    {
     "name": "stdout",
     "output_type": "stream",
     "text": [
      "Updated array: [10, 20, 25, 30, 40, 50]\n"
     ]
    }
   ],
   "source": [
    "\n",
    "def insert_element(arr, element, position):\n",
    "    if position < 0 or position > len(arr):\n",
    "        return \"Invalid position\"\n",
    "    arr.insert(position, element)\n",
    "    return arr\n",
    "numbers = [10, 20, 30, 40, 50]\n",
    "element_to_insert = 25\n",
    "position = 2 \n",
    "updated_array = insert_element(numbers, element_to_insert, position)\n",
    "print(\"Updated array:\", updated_array)\n"
   ]
  },
  {
   "cell_type": "markdown",
   "id": "645ed500",
   "metadata": {},
   "source": [
    "Write a function to find the minimum and maximum value of an array"
   ]
  },
  {
   "cell_type": "code",
   "execution_count": 8,
   "id": "bc660e82",
   "metadata": {},
   "outputs": [
    {
     "name": "stdout",
     "output_type": "stream",
     "text": [
      "Minimum value: 1\n",
      "Maximum value: 67\n"
     ]
    }
   ],
   "source": [
    "def find_min_max(arr):\n",
    "    if not arr: \n",
    "        return None, None\n",
    "    \n",
    "    min_val = arr[0]\n",
    "    max_val = arr[0]\n",
    "    \n",
    "    for num in arr:\n",
    "        if num < min_val:\n",
    "            min_val = num\n",
    "        if num > max_val:\n",
    "            max_val = num\n",
    "    \n",
    "    return min_val, max_val\n",
    "numbers = [10, 3, 45, 2, 67, 1]\n",
    "minimum, maximum = find_min_max(numbers)\n",
    "\n",
    "print(\"Minimum value:\", minimum)\n",
    "print(\"Maximum value:\", maximum)\n"
   ]
  },
  {
   "cell_type": "markdown",
   "id": "5e4e5ff7",
   "metadata": {},
   "source": [
    "Write a function to find the minimum and maximum value of an array"
   ]
  },
  {
   "cell_type": "code",
   "execution_count": 9,
   "id": "ac6c4b42",
   "metadata": {},
   "outputs": [
    {
     "name": "stdout",
     "output_type": "stream",
     "text": [
      "Minimum: 1, Maximum: 9\n"
     ]
    }
   ],
   "source": [
    "def find_min_max(arr):\n",
    "    if not arr:\n",
    "        return None, None \n",
    "    min_val = arr[0]\n",
    "    max_val = arr[0]\n",
    "    \n",
    "    for num in arr:\n",
    "        if num < min_val:\n",
    "            min_val = num\n",
    "        if num > max_val:\n",
    "            max_val = num\n",
    "    \n",
    "    return min_val, max_val\n",
    "numbers = [5, 2, 9, 1, 7]\n",
    "minimum, maximum = find_min_max(numbers)\n",
    "print(f\"Minimum: {minimum}, Maximum: {maximum}\")\n"
   ]
  },
  {
   "cell_type": "markdown",
   "id": "270498e4",
   "metadata": {},
   "source": [
    "Write a function to reverse an array of integer values "
   ]
  },
  {
   "cell_type": "code",
   "execution_count": 10,
   "id": "d25f2668",
   "metadata": {},
   "outputs": [
    {
     "name": "stdout",
     "output_type": "stream",
     "text": [
      "Reversed array: [5, 4, 3, 2, 1]\n"
     ]
    }
   ],
   "source": [
    "def reverse_array(arr):\n",
    "    return arr[::-1]\n",
    "\n",
    "# Example usage:\n",
    "numbers = [1, 2, 3, 4, 5]\n",
    "reversed_numbers = reverse_array(numbers)\n",
    "print(\"Reversed array:\", reversed_numbers)\n"
   ]
  },
  {
   "cell_type": "markdown",
   "id": "cf15b3b4",
   "metadata": {},
   "source": [
    " Write a function to find the duplicate values of an array"
   ]
  },
  {
   "cell_type": "code",
   "execution_count": 11,
   "id": "a5964e98",
   "metadata": {},
   "outputs": [
    {
     "name": "stdout",
     "output_type": "stream",
     "text": [
      "Duplicate values: [2, 3, 1]\n"
     ]
    }
   ],
   "source": [
    "def find_duplicates(arr):\n",
    "    duplicates = []\n",
    "    seen = set()\n",
    "    for item in arr:\n",
    "        if item in seen and item not in duplicates:\n",
    "            duplicates.append(item)\n",
    "        else:\n",
    "            seen.add(item)\n",
    "    return duplicates\n",
    "\n",
    "# Example usage:\n",
    "numbers = [1, 2, 3, 2, 4, 5, 3, 6, 1]\n",
    "print(\"Duplicate values:\", find_duplicates(numbers))\n"
   ]
  },
  {
   "cell_type": "markdown",
   "id": "01c375c8",
   "metadata": {},
   "source": [
    "Write a program to find the common values between two arrays"
   ]
  },
  {
   "cell_type": "code",
   "execution_count": 12,
   "id": "6568b2dd",
   "metadata": {},
   "outputs": [
    {
     "name": "stdout",
     "output_type": "stream",
     "text": [
      "Common values: [4, 5]\n"
     ]
    }
   ],
   "source": [
    "def common_values(arr1, arr2):\n",
    "    return list(set(arr1) & set(arr2))\n",
    "array1 = [1, 2, 3, 4, 5]\n",
    "array2 = [4, 5, 6, 7, 8]\n",
    "\n",
    "common = common_values(array1, array2)\n",
    "print(\"Common values:\", common)\n"
   ]
  },
  {
   "cell_type": "markdown",
   "id": "459b7752",
   "metadata": {},
   "source": [
    "Write a method to remove duplicate elements from an array"
   ]
  },
  {
   "cell_type": "code",
   "execution_count": 13,
   "id": "21a0f7b7",
   "metadata": {},
   "outputs": [
    {
     "name": "stdout",
     "output_type": "stream",
     "text": [
      "Array without duplicates: [1, 2, 3, 4, 5]\n"
     ]
    }
   ],
   "source": [
    "def remove_duplicates(arr):\n",
    "    seen = set()\n",
    "    result = []\n",
    "    for item in arr:\n",
    "        if item not in seen:\n",
    "            seen.add(item)\n",
    "            result.append(item)\n",
    "    return result\n",
    "\n",
    "# Example usage:\n",
    "numbers = [1, 2, 3, 2, 4, 5, 3, 1]\n",
    "print(\"Array without duplicates:\", remove_duplicates(numbers))\n"
   ]
  },
  {
   "cell_type": "markdown",
   "id": "e472090c",
   "metadata": {},
   "source": [
    " Write a method to find the second largest number in an array"
   ]
  },
  {
   "cell_type": "code",
   "execution_count": 14,
   "id": "44310320",
   "metadata": {},
   "outputs": [
    {
     "name": "stdout",
     "output_type": "stream",
     "text": [
      "Second largest number is: 45\n"
     ]
    }
   ],
   "source": [
    "def second_largest(arr):\n",
    "    if len(arr) < 2:\n",
    "        return None \n",
    "    first = second = float('-inf')\n",
    "    \n",
    "    for num in arr:\n",
    "        if num > first:\n",
    "            second = first\n",
    "            first = num\n",
    "        elif first > num > second:\n",
    "            second = num\n",
    "    \n",
    "    return second if second != float('-inf') else None\n",
    "numbers = [10, 20, 4, 45, 99]\n",
    "print(\"Second largest number is:\", second_largest(numbers))\n"
   ]
  },
  {
   "cell_type": "markdown",
   "id": "9ae3d570",
   "metadata": {},
   "source": [
    "Write a method to find the second largest number in an array "
   ]
  },
  {
   "cell_type": "code",
   "execution_count": 15,
   "id": "b3c5d363",
   "metadata": {},
   "outputs": [
    {
     "name": "stdout",
     "output_type": "stream",
     "text": [
      "Second largest number is: 34\n"
     ]
    }
   ],
   "source": [
    "def second_largest(arr):\n",
    "    if len(arr) < 2:\n",
    "        return None  \n",
    "    \n",
    "    unique_nums = list(set(arr))  \n",
    "    if len(unique_nums) < 2:\n",
    "        return None \n",
    "    unique_nums.sort()\n",
    "    return unique_nums[-2]\n",
    "numbers = [12, 35, 1, 10, 34, 1]\n",
    "print(\"Second largest number is:\", second_largest(numbers))\n"
   ]
  },
  {
   "cell_type": "markdown",
   "id": "226c5200",
   "metadata": {},
   "source": [
    "Write a method to find number of even number and odd numbers in an array"
   ]
  },
  {
   "cell_type": "code",
   "execution_count": 16,
   "id": "a4f5214b",
   "metadata": {},
   "outputs": [
    {
     "name": "stdout",
     "output_type": "stream",
     "text": [
      "Even numbers: 3, Odd numbers: 4\n"
     ]
    }
   ],
   "source": [
    "def count_even_odd(arr):\n",
    "    even_count = 0\n",
    "    odd_count = 0\n",
    "    \n",
    "    for num in arr:\n",
    "        if num % 2 == 0:\n",
    "            even_count += 1\n",
    "        else:\n",
    "            odd_count += 1\n",
    "            \n",
    "    return even_count, odd_count\n",
    "numbers = [10, 21, 4, 45, 66, 93, 11]\n",
    "evens, odds = count_even_odd(numbers)\n",
    "print(f\"Even numbers: {evens}, Odd numbers: {odds}\")\n"
   ]
  },
  {
   "cell_type": "markdown",
   "id": "f97abe35",
   "metadata": {},
   "source": [
    "Write a function to get the difference of largest and smallest value "
   ]
  },
  {
   "cell_type": "code",
   "execution_count": null,
   "id": "d135b889",
   "metadata": {},
   "outputs": [
    {
     "name": "stdout",
     "output_type": "stream",
     "text": [
      "Difference between largest and smallest: 96\n"
     ]
    }
   ],
   "source": [
    "def difference_max_min(arr):\n",
    "    if not arr:\n",
    "        return None \n",
    "    max_val = max(arr)\n",
    "    min_val = min(arr)\n",
    "    return max_val - min_val\n",
    "numbers = [10, 4, 25, 7, 100]\n",
    "print(\"Difference between largest and smallest:\", difference_max_min(numbers))\n"
   ]
  },
  {
   "cell_type": "markdown",
   "id": "eabd4006",
   "metadata": {},
   "source": [
    "Write a method to verify if the array contains two specified elements(12,23)"
   ]
  },
  {
   "cell_type": "code",
   "execution_count": 18,
   "id": "ad18c686",
   "metadata": {},
   "outputs": [
    {
     "name": "stdout",
     "output_type": "stream",
     "text": [
      "True\n",
      "False\n"
     ]
    }
   ],
   "source": [
    "def contains_both(arr, elem1, elem2):\n",
    "    return elem1 in arr and elem2 in arr\n",
    "numbers = [5, 12, 7, 23, 9]\n",
    "print(contains_both(numbers, 12, 23))  \n",
    "\n",
    "numbers2 = [12, 5, 7, 9]\n",
    "print(contains_both(numbers2, 12, 23)) "
   ]
  },
  {
   "cell_type": "markdown",
   "id": "52481aff",
   "metadata": {},
   "source": [
    " Write a program to remove the duplicate elements and return the new array"
   ]
  },
  {
   "cell_type": "code",
   "execution_count": 19,
   "id": "19e0813b",
   "metadata": {},
   "outputs": [
    {
     "name": "stdout",
     "output_type": "stream",
     "text": [
      "Array without duplicates: [1, 2, 3, 4, 5]\n"
     ]
    }
   ],
   "source": [
    "def remove_duplicates(arr):\n",
    "    seen = set()\n",
    "    unique_arr = []\n",
    "    for item in arr:\n",
    "        if item not in seen:\n",
    "            seen.add(item)\n",
    "            unique_arr.append(item)\n",
    "    return unique_arr\n",
    "numbers = [1, 2, 3, 2, 4, 1, 5, 3]\n",
    "new_array = remove_duplicates(numbers)\n",
    "print(\"Array without duplicates:\", new_array)\n"
   ]
  }
 ],
 "metadata": {
  "kernelspec": {
   "display_name": "Python 3",
   "language": "python",
   "name": "python3"
  },
  "language_info": {
   "codemirror_mode": {
    "name": "ipython",
    "version": 3
   },
   "file_extension": ".py",
   "mimetype": "text/x-python",
   "name": "python",
   "nbconvert_exporter": "python",
   "pygments_lexer": "ipython3",
   "version": "3.13.1"
  }
 },
 "nbformat": 4,
 "nbformat_minor": 5
}
