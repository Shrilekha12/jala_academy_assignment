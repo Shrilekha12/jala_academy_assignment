{
 "cells": [
  {
   "cell_type": "markdown",
   "id": "c2eb8405",
   "metadata": {},
   "source": [
    "Write a class with a default constructor, one argument constructor and two argument \n",
    "constructors. Instantiate the class to call all the constructors of that class from a main \n",
    "class "
   ]
  },
  {
   "cell_type": "code",
   "execution_count": null,
   "id": "cb144ab9",
   "metadata": {},
   "outputs": [
    {
     "name": "stdout",
     "output_type": "stream",
     "text": [
      "Default constructor called.\n",
      "One-argument constructor called. Name: Alice\n",
      "Two-argument constructor called. Name: Bob, Age: 30\n"
     ]
    }
   ],
   "source": [
    "class MyClass:\n",
    "    def __init__(self, name=None, age=None):\n",
    "        if name is None and age is None:\n",
    "            print(\"Default constructor called.\")\n",
    "        elif name is not None and age is None:\n",
    "            print(f\"One-argument constructor called. Name: {name}\")\n",
    "        elif name is not None and age is not None:\n",
    "            print(f\"Two-argument constructor called. Name: {name}, Age: {age}\")\n",
    "\n",
    "\n",
    "if __name__ == \"__main__\":\n",
    "    obj1 = MyClass()\n",
    "    obj2 = MyClass(\"Alice\")\n",
    "    obj3 = MyClass(\"Bob\", 30)\n"
   ]
  },
  {
   "cell_type": "markdown",
   "id": "d17bb93d",
   "metadata": {},
   "source": [
    " Call the constructors(both default and argument constructors) of super class from a child \n",
    "class "
   ]
  },
  {
   "cell_type": "code",
   "execution_count": 1,
   "id": "98593f74",
   "metadata": {},
   "outputs": [
    {
     "name": "stdout",
     "output_type": "stream",
     "text": [
      "Default constructor of Parent\n",
      "Default constructor of Child\n",
      "Parameterized constructor of Parent: Hello!\n",
      "Parameterized constructor of Child: Hello!\n"
     ]
    }
   ],
   "source": [
    "\n",
    "class Parent:\n",
    "    def __init__(self, message=None):\n",
    "        if message:\n",
    "            print(f\"Parameterized constructor of Parent: {message}\")\n",
    "        else:\n",
    "            print(\"Default constructor of Parent\")\n",
    "\n",
    "\n",
    "class Child(Parent):\n",
    "    def __init__(self, message=None):\n",
    "        if message:\n",
    "            super().__init__(message)  \n",
    "            print(f\"Parameterized constructor of Child: {message}\")\n",
    "        else:\n",
    "            super().__init__()         \n",
    "            print(\"Default constructor of Child\")\n",
    "\n",
    "\n",
    "c1 = Child()               \n",
    "c2 = Child(\"Hello!\")       \n"
   ]
  },
  {
   "cell_type": "markdown",
   "id": "5f0ae175",
   "metadata": {},
   "source": [
    " Apply private, public, protected and default access modifiers to the constructor "
   ]
  },
  {
   "cell_type": "code",
   "execution_count": null,
   "id": "b41359b7",
   "metadata": {},
   "outputs": [
    {
     "name": "stdout",
     "output_type": "stream",
     "text": [
      "Public constructor called.\n",
      "Private constructor called.\n",
      "Default (module-level) constructor called.\n"
     ]
    }
   ],
   "source": [
    "\n",
    "class PublicConstructor:\n",
    "    def __init__(self):\n",
    "        print(\"Public constructor called.\")\n",
    "class ProtectedConstructor:\n",
    "    def _init_(self):\n",
    "        print(\"Protected constructor called.\")\n",
    "class PrivateConstructor:\n",
    "    def __init__(self):\n",
    "        print(\"Private constructor called.\")\n",
    "\n",
    "    @classmethod\n",
    "    def create_instance(cls):\n",
    "        return cls()\n",
    "class DefaultConstructor:\n",
    "    def __init__(self):\n",
    "        print(\"Default (module-level) constructor called.\")\n",
    "if __name__ == \"__main__\":\n",
    "    obj1 = PublicConstructor()\n",
    "    obj2 = ProtectedConstructor()\n",
    "    obj3 = PrivateConstructor.create_instance()\n",
    "    obj4 = DefaultConstructor()\n"
   ]
  },
  {
   "cell_type": "markdown",
   "id": "29e84114",
   "metadata": {},
   "source": [
    "Write a program which illustrates the concept of attributes of a constructor. "
   ]
  },
  {
   "cell_type": "code",
   "execution_count": 6,
   "id": "9e185dc1",
   "metadata": {},
   "outputs": [
    {
     "name": "stdout",
     "output_type": "stream",
     "text": [
      "Student 1 Info:\n",
      "Name: Alice, Age: 14, Grade: 9th Grade\n",
      "Student 2 Info:\n",
      "Name: Bob, Age: 15, Grade: 10th Grade\n"
     ]
    }
   ],
   "source": [
    "class Student:\n",
    "    def __init__(self, name, age, grade):\n",
    "        self.name = name      \n",
    "        self.age = age        \n",
    "        self.grade = grade    \n",
    "\n",
    "    def display_info(self):\n",
    "        print(f\"Name: {self.name}, Age: {self.age}, Grade: {self.grade}\")\n",
    "\n",
    "if __name__ == \"__main__\":\n",
    "    student1 = Student(\"Alice\", 14, \"9th Grade\")\n",
    "    student2 = Student(\"Bob\", 15, \"10th Grade\")\n",
    "    print(\"Student 1 Info:\")\n",
    "    student1.display_info()\n",
    "\n",
    "    print(\"Student 2 Info:\")\n",
    "    student2.display_info()\n"
   ]
  }
 ],
 "metadata": {
  "kernelspec": {
   "display_name": "Python 3",
   "language": "python",
   "name": "python3"
  },
  "language_info": {
   "codemirror_mode": {
    "name": "ipython",
    "version": 3
   },
   "file_extension": ".py",
   "mimetype": "text/x-python",
   "name": "python",
   "nbconvert_exporter": "python",
   "pygments_lexer": "ipython3",
   "version": "3.13.1"
  }
 },
 "nbformat": 4,
 "nbformat_minor": 5
}
