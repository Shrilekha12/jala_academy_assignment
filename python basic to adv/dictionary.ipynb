{
 "cells": [
  {
   "cell_type": "code",
   "execution_count": null,
   "id": "51425074",
   "metadata": {},
   "outputs": [],
   "source": [
    "1. Create a Dictionary with at least 5 key value pairs of the Student ID and Name \n",
    "1.1. Adding the values in dictionary \n",
    "1.2. Updating the values in dictionary \n",
    "1.3. Accessing the value in dictionary \n",
    "1.4. Create a nested loop dictionary \n",
    "1.5. Access the values of nested loop dictionary \n",
    "1.6. Print the keys present in a particular dictionary \n",
    "1.7. Delete a value from a dictionary "
   ]
  },
  {
   "cell_type": "code",
   "execution_count": 1,
   "id": "2b02d2c9",
   "metadata": {},
   "outputs": [
    {
     "name": "stdout",
     "output_type": "stream",
     "text": [
      "After adding: {101: 'Alice', 102: 'Bob', 103: 'Charlie', 104: 'Diana', 105: 'Ethan', 106: 'Fiona'}\n",
      "After updating: {101: 'Alice', 102: 'Bob', 103: 'Charlie Brown', 104: 'Diana', 105: 'Ethan', 106: 'Fiona'}\n",
      "Student with ID 102: Bob\n",
      "\n",
      "Nested Dictionary:\n",
      "{101: {'name': 'Alice', 'age': 20, 'courses': ['Math', 'Physics']}, 102: {'name': 'Bob', 'age': 21, 'courses': ['Biology', 'Chemistry']}, 103: {'name': 'Charlie', 'age': 22, 'courses': ['History', 'English']}}\n",
      "\n",
      "Access nested values:\n",
      "Name of student 101: Alice\n",
      "Courses of student 102: ['Biology', 'Chemistry']\n",
      "Student ID 101 courses:\n",
      "- Math\n",
      "- Physics\n",
      "Student ID 102 courses:\n",
      "- Biology\n",
      "- Chemistry\n",
      "Student ID 103 courses:\n",
      "- History\n",
      "- English\n",
      "\n",
      "Keys in students dictionary: [101, 102, 103, 104, 105, 106]\n",
      "Keys in nested_students dictionary: [101, 102, 103]\n",
      "\n",
      "After deletion: {101: 'Alice', 102: 'Bob', 103: 'Charlie Brown', 104: 'Diana', 105: 'Ethan'}\n"
     ]
    }
   ],
   "source": [
    "# 1. Create a Dictionary with 5 key-value pairs (Student ID : Name)\n",
    "students = {\n",
    "    101: \"Alice\",\n",
    "    102: \"Bob\",\n",
    "    103: \"Charlie\",\n",
    "    104: \"Diana\",\n",
    "    105: \"Ethan\"\n",
    "}\n",
    "\n",
    "# 1.1 Adding values to dictionary\n",
    "students[106] = \"Fiona\"\n",
    "print(\"After adding:\", students)\n",
    "\n",
    "# 1.2 Updating values in dictionary\n",
    "students[103] = \"Charlie Brown\"\n",
    "print(\"After updating:\", students)\n",
    "\n",
    "# 1.3 Accessing a value in dictionary\n",
    "student_name = students[102]\n",
    "print(\"Student with ID 102:\", student_name)\n",
    "\n",
    "# 1.4 Create a nested dictionary (e.g., student info with nested details)\n",
    "nested_students = {\n",
    "    101: {\"name\": \"Alice\", \"age\": 20, \"courses\": [\"Math\", \"Physics\"]},\n",
    "    102: {\"name\": \"Bob\", \"age\": 21, \"courses\": [\"Biology\", \"Chemistry\"]},\n",
    "    103: {\"name\": \"Charlie\", \"age\": 22, \"courses\": [\"History\", \"English\"]}\n",
    "}\n",
    "print(\"\\nNested Dictionary:\")\n",
    "print(nested_students)\n",
    "\n",
    "# 1.5 Access values of nested dictionary\n",
    "print(\"\\nAccess nested values:\")\n",
    "print(\"Name of student 101:\", nested_students[101][\"name\"])\n",
    "print(\"Courses of student 102:\", nested_students[102][\"courses\"])\n",
    "\n",
    "# Loop to print all courses of each student\n",
    "for student_id, details in nested_students.items():\n",
    "    print(f\"Student ID {student_id} courses:\")\n",
    "    for course in details[\"courses\"]:\n",
    "        print(\"-\", course)\n",
    "\n",
    "# 1.6 Print the keys present in a particular dictionary\n",
    "print(\"\\nKeys in students dictionary:\", list(students.keys()))\n",
    "print(\"Keys in nested_students dictionary:\", list(nested_students.keys()))\n",
    "\n",
    "# 1.7 Delete a value from a dictionary\n",
    "del students[106]  # Delete student with ID 106\n",
    "print(\"\\nAfter deletion:\", students)\n"
   ]
  }
 ],
 "metadata": {
  "kernelspec": {
   "display_name": "Python 3",
   "language": "python",
   "name": "python3"
  },
  "language_info": {
   "codemirror_mode": {
    "name": "ipython",
    "version": 3
   },
   "file_extension": ".py",
   "mimetype": "text/x-python",
   "name": "python",
   "nbconvert_exporter": "python",
   "pygments_lexer": "ipython3",
   "version": "3.13.1"
  }
 },
 "nbformat": 4,
 "nbformat_minor": 5
}
