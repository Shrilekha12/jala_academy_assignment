{
 "cells": [
  {
   "cell_type": "code",
   "execution_count": null,
   "id": "2b7ac9bb",
   "metadata": {},
   "outputs": [],
   "source": [
    "Create an abstract class with abstract and non-abstract methods."
   ]
  },
  {
   "cell_type": "code",
   "execution_count": 1,
   "id": "132381bb",
   "metadata": {},
   "outputs": [
    {
     "name": "stdout",
     "output_type": "stream",
     "text": [
      "Woof!\n",
      "Breathing...\n"
     ]
    }
   ],
   "source": [
    "from abc import ABC, abstractmethod\n",
    "\n",
    "# Abstract class\n",
    "class Animal(ABC):\n",
    "\n",
    "    # Abstract method\n",
    "    @abstractmethod\n",
    "    def make_sound(self):\n",
    "        pass\n",
    "\n",
    "    # Non-abstract method\n",
    "    def breathe(self):\n",
    "        print(\"Breathing...\")\n",
    "\n",
    "# Concrete subclass\n",
    "class Dog(Animal):\n",
    "    def make_sound(self):\n",
    "        print(\"Woof!\")\n",
    "\n",
    "# Usage\n",
    "dog = Dog()\n",
    "dog.make_sound()  # Output: Woof!\n",
    "dog.breathe()     # Output: Breathing...\n"
   ]
  },
  {
   "cell_type": "markdown",
   "id": "420b6f34",
   "metadata": {},
   "source": [
    "Create a sub class for an abstract class. Create an object in the child class for the  \n",
    "abstract class and access the non-abstract methods "
   ]
  },
  {
   "cell_type": "code",
   "execution_count": null,
   "id": "e277575d",
   "metadata": {},
   "outputs": [
    {
     "name": "stdout",
     "output_type": "stream",
     "text": [
      "Car engine started.\n",
      "This vehicle uses petrol or diesel.\n"
     ]
    }
   ],
   "source": [
    "from abc import ABC, abstractmethod\n",
    "\n",
    "# Abstract class\n",
    "class Vehicle(ABC):\n",
    "\n",
    "    # Abstract method\n",
    "    @abstractmethod\n",
    "    def start_engine(self):\n",
    "        pass\n",
    "\n",
    "    # Non-abstract method\n",
    "    def fuel_type(self):\n",
    "        print(\"This vehicle uses petrol or diesel.\")\n",
    "\n",
    "# Subclass that implements the abstract method\n",
    "class Car(Vehicle):\n",
    "\n",
    "    def start_engine(self):\n",
    "        print(\"Car engine started.\")\n",
    "\n",
    "# Create object of the subclass\n",
    "my_car = Car()\n",
    "\n",
    "# Access abstract method (implemented in subclass)\n",
    "my_car.start_engine()     # Output: Car engine started.\n",
    "\n",
    "# Access non-abstract method from abstract class\n",
    "my_car.fuel_type()       \n"
   ]
  },
  {
   "cell_type": "markdown",
   "id": "68884dec",
   "metadata": {},
   "source": [
    "Create an instance for the child class in child class and call abstract methods "
   ]
  },
  {
   "cell_type": "code",
   "execution_count": null,
   "id": "5db1567e",
   "metadata": {},
   "outputs": [
    {
     "name": "stdout",
     "output_type": "stream",
     "text": [
      "Laptop is powering on...\n",
      "This is a generic device.\n"
     ]
    }
   ],
   "source": [
    "from abc import ABC, abstractmethod\n",
    "\n",
    "# Abstract class\n",
    "class Device(ABC):\n",
    "\n",
    "    @abstractmethod\n",
    "    def power_on(self):\n",
    "        pass\n",
    "\n",
    "    def device_type(self):\n",
    "        print(\"This is a generic device.\")\n",
    "\n",
    "# Child class\n",
    "class Laptop(Device):\n",
    "\n",
    "    def power_on(self):\n",
    "        print(\"Laptop is powering on...\")\n",
    "\n",
    "    def test_method(self):\n",
    "        # Creating an instance of the same class (Laptop) inside the class\n",
    "        obj = Laptop()\n",
    "        obj.power_on()       # Calling abstract method (implemented in child)\n",
    "        obj.device_type()    # Calling non-abstract method from abstract class\n",
    "\n",
    "# Call the test methodfrom abc import ABC, abstractmethod\n",
    "\n",
    "# Abstract base class\n",
    "class Appliance(ABC):\n",
    "\n",
    "    @abstractmethod\n",
    "    def turn_on(self):\n",
    "        pass\n",
    "\n",
    "    # Non-abstract method\n",
    "    def plug_in(self):\n",
    "        print(\"Appliance is plugged in.\")\n",
    "\n",
    "# Child class\n",
    "class WashingMachine(Appliance):\n",
    "\n",
    "    def turn_on(self):\n",
    "        print(\"Washing Machine is now ON.\")\n",
    "\n",
    "    def use_appliance(self):\n",
    "        # Creating an instance of the same class\n",
    "        obj = WashingMachine()\n",
    "        obj.plug_in()  # Call non-abstract method from abstract class\n",
    "\n",
    "# Create object of child class and call the method\n",
    "machine = WashingMachine()\n",
    "machine.use_appliance()\n",
    "\n",
    "laptop = Laptop()\n",
    "laptop.test_method()\n"
   ]
  },
  {
   "cell_type": "markdown",
   "id": "de15611b",
   "metadata": {},
   "source": [
    "Create an instance for the child class in child class and call non-abstract methods"
   ]
  },
  {
   "cell_type": "code",
   "execution_count": 8,
   "id": "bf37d365",
   "metadata": {},
   "outputs": [
    {
     "name": "stdout",
     "output_type": "stream",
     "text": [
      "Appliance is plugged in.\n"
     ]
    }
   ],
   "source": [
    "from abc import ABC, abstractmethod\n",
    "\n",
    "# Abstract base class\n",
    "class Appliance(ABC):\n",
    "\n",
    "    @abstractmethod\n",
    "    def turn_on(self):\n",
    "        pass\n",
    "\n",
    "    # Non-abstract method\n",
    "    def plug_in(self):\n",
    "        print(\"Appliance is plugged in.\")\n",
    "\n",
    "# Child class\n",
    "class WashingMachine(Appliance):\n",
    "\n",
    "    def turn_on(self):\n",
    "        print(\"Washing Machine is now ON.\")\n",
    "\n",
    "    def use_appliance(self):\n",
    "        # Creating an instance of the same class\n",
    "        obj = WashingMachine()\n",
    "        obj.plug_in()  # Call non-abstract method from abstract class\n",
    "\n",
    "# Create object of child class and call the method\n",
    "machine = WashingMachine()\n",
    "machine.use_appliance()\n"
   ]
  }
 ],
 "metadata": {
  "kernelspec": {
   "display_name": "Python 3",
   "language": "python",
   "name": "python3"
  },
  "language_info": {
   "codemirror_mode": {
    "name": "ipython",
    "version": 3
   },
   "file_extension": ".py",
   "mimetype": "text/x-python",
   "name": "python",
   "nbconvert_exporter": "python",
   "pygments_lexer": "ipython3",
   "version": "3.13.1"
  }
 },
 "nbformat": 4,
 "nbformat_minor": 5
}
